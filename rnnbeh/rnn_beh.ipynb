{
 "cells": [
  {
   "cell_type": "markdown",
   "metadata": {},
   "source": [
    "### Using recurrent neural networks for the analysis of behavioural data\n",
    "##### Amir Dezfouli\n",
    "\n",
    "### Background\n",
    "In this tutorial, I will present how to use recurrent neural networks (RNNs) for the analysis of behavioural data. In this setting, we have the behaviour of a set of subjects in a task and the aim is to have a computational model for the subjects' choice processes. This kind of data is often analysed using reinforcement-learning models such as Q-learning. A potential problem with this approach is that the model development is mainly intuition-driven and the model needs to be manually engineered to match the actual underlying behavioural trends in the data. RNNs, on the other hand, are flexible and fit the data <i>automatically</i> without requiring engineering, but they may be hard to interpret. In [this paper](https://journals.plos.org/ploscompbiol/article?id=10.1371/journal.pcbi.1006903), we showed that RNNs provide a better fit to the data compared to the baseline reinforcement-learning models. The code of the paper is available in this [link](https://github.com/adezfouli/rnn_beh), using `Tensorflow==1.3`. In this tutorial, I will show how to fit a recurrent neural network to the behavioural data using `Tensroflow 2` and `keras`, which are easier to work with compared to the earlier versions of `Tensroflow`."
   ]
  },
  {
   "attachments": {},
   "cell_type": "markdown",
   "metadata": {},
   "source": [
    "### Recurrent neural networks\n",
    "The model is composed of a set of RNN cells, which then through a softmax layer make predictions for the probability of selecting each action in the next trial. In the context of the behavioural data that we are interested in, at each trial $t$, the model takes the previous action $a_{t-1}$, the reward received by taking the action ($r_{t-1}$), and the current state of the world ($s_t$) as an input, and then produces predictions for the probability of taking each action in the next trial. For example, in the case of binary bandits with two actions, the model predicts the probability of taking action L and R. The predictions of the model are then used to build a loss function $\\mathcal{L}$ , which is used to train the model. Note that in the case of bandit tasks there is no state information.\n",
    "\n",
    "<img width=\"85%\" src=\"images/rnn_structure.jpg\" /> "
   ]
  },
  {
   "cell_type": "markdown",
   "metadata": {},
   "source": [
    "### Requirements\n",
    "The code is based on `tensorflow==2.0.0-beta1`. See [here](https://www.tensorflow.org/install/pip) for the details of installation. For loading data `h5py` package is used which can be installed using `pip`. For splitting data into train and test, `sklearn` is used, which again can be used using `pip`."
   ]
  },
  {
   "cell_type": "markdown",
   "metadata": {},
   "source": [
    "### Loading and preparing data\n",
    "The data is in file `data/BD-healthy.hdf5`,"
   ]
  },
  {
   "cell_type": "code",
   "execution_count": 71,
   "metadata": {},
   "outputs": [],
   "source": [
    "import h5py\n",
    "import numpy as np\n",
    "with h5py.File('data/BD-healthy.hdf5', 'r') as f:\n",
    "    # loading actions taken by the subjects\n",
    "    action = f['action'][:].astype(np.int32)\n",
    "    \n",
    "    # loading rewards received by the subjects\n",
    "    reward = f['reward'][:].astype(np.float32)\n",
    "    \n",
    "from sklearn.model_selection import train_test_split\n",
    "# generating test and training data\n",
    "action_train, action_test, reward_train, reward_test = train_test_split(action, reward, test_size=0.2)"
   ]
  },
  {
   "cell_type": "markdown",
   "metadata": {},
   "source": [
    "`action` and `reward` are both matrices with S x T dimensions, in which S is the number of subjects and T is the number of trials. Actions are coded as integers (0, 1, ...). The number of completed trials can be different for each subject, in which case the actions at the empty trials at the end of the task are coded by -1. \n",
    "\n",
    "We convert the actions into one-hot format,"
   ]
  },
  {
   "cell_type": "code",
   "execution_count": 72,
   "metadata": {},
   "outputs": [],
   "source": [
    "from tensorflow import one_hot\n",
    "action_onehot = one_hot(action_train, 2) # action 0 is coded as [1, 0], and action 1 is coded as [0, 1], and -1 is coded as [0, 0]"
   ]
  },
  {
   "cell_type": "markdown",
   "metadata": {},
   "source": [
    "Actions and rewards are then concatenated to form the input to the model. Note that a dummy action and reward is added to the beginning of the data,"
   ]
  },
  {
   "cell_type": "code",
   "execution_count": 73,
   "metadata": {},
   "outputs": [],
   "source": [
    "from tensorflow.python.keras.layers import Concatenate, ZeroPadding1D\n",
    "reward_action = Concatenate(axis=2)([reward_train[:, :, np.newaxis], action_onehot])\n",
    "\n",
    "# adding dummy zero to the beginning and ignoring the last one\n",
    "reward_action = ZeroPadding1D(padding=[1, 0])(reward_action)[:, :-1, :]\n"
   ]
  },
  {
   "cell_type": "markdown",
   "metadata": {},
   "source": [
    "### Defining the model\n",
    "We first define the model. For simplicity we focus on the modelling of bandit tasks, in which there is no state information and therefore the model only receives input $a_{t-1}$ and $r_{t-1}$,"
   ]
  },
  {
   "cell_type": "code",
   "execution_count": 74,
   "metadata": {},
   "outputs": [],
   "source": [
    "import tensorflow as tf\n",
    "import tensorflow.keras.layers as kl\n",
    "\n",
    "n_actions = 2    # there are two actions\n",
    "state_size = 0   # there is only state in the bandit task, so we don't pass the state information to the model\n",
    "n_cells = 5      # number of cells in the recurrent neural network\n",
    "\n",
    "# inputs to the model. Dim: S x T x (1 + n_actions + state_size).\n",
    "model_inputs = tf.keras.Input(shape=(None, 1 + n_actions + state_size), name='reward_action')\n",
    "\n",
    "# initial state of the RNN, Dim: S x n_cells\n",
    "rnn_initial_state = tf.keras.Input(shape=(n_cells,), name='initial_state')\n",
    "\n",
    "# output of the recurrent nerual network. Dim: S x T x n_cells\n",
    "rnn_out = kl.GRU(n_cells, return_sequences=True, name='GRU')(model_inputs, initial_state=rnn_initial_state)\n",
    "\n",
    "# policy -- probablity of taking each action. Dim: S x T x n_actions\n",
    "policy = kl.Dense(n_actions, activation='softmax', name='policy')(rnn_out)\n",
    "\n",
    "# defining the model\n",
    "model = tf.keras.Model(inputs=[model_inputs, rnn_initial_state], outputs=policy, name='model')\n",
    "\n",
    "# this model will be used for off-policy simulations in which we need to track rnn state\n",
    "sim_model = tf.keras.Model(inputs=[model_inputs,rnn_initial_state], outputs=[rnn_out, policy])\n"
   ]
  },
  {
   "cell_type": "markdown",
   "metadata": {},
   "source": [
    "### Optimising the model"
   ]
  },
  {
   "cell_type": "code",
   "execution_count": 75,
   "metadata": {},
   "outputs": [
    {
     "name": "stdout",
     "output_type": "stream",
     "text": [
      "started model fitting... (please wait)\n",
      "finished model fitting.\n"
     ]
    }
   ],
   "source": [
    "import tensorflow as tf\n",
    "import tensorflow.keras.backend as kb\n",
    "from tensorflow.python.keras.losses import categorical_crossentropy\n",
    "\n",
    "# defining the optimiser\n",
    "optimizer = tf.keras.optimizers.Adam(learning_rate=1e-2)\n",
    "\n",
    "# initial state of RNN\n",
    "initial_rnn_state = np.zeros((reward_action.shape[0], n_cells,), dtype=np.float32)\n",
    "\n",
    "# defining loss\n",
    "def loss(y_true, y_pred):\n",
    "    return kb.sum(categorical_crossentropy(y_true, y_pred))\n",
    "\n",
    "\n",
    "model.compile(optimizer=optimizer, loss=loss, metrics=['accuracy'])\n",
    "\n",
    "print('started model fitting... (please wait)')\n",
    "\n",
    "# training the model. Change verbose to 2 to see training process\n",
    "model.fit([reward_action, initial_rnn_state], action_onehot, epochs=2000, batch_size=reward_action.shape[0], verbose=0)\n",
    "print('finished model fitting.')"
   ]
  },
  {
   "cell_type": "markdown",
   "metadata": {},
   "source": [
    "### Testing the model\n",
    "We use the test datat to evaluate the loss,"
   ]
  },
  {
   "cell_type": "code",
   "execution_count": 76,
   "metadata": {},
   "outputs": [
    {
     "name": "stdout",
     "output_type": "stream",
     "text": [
      "\r",
      "82/82 [==============================] - 0s 3ms/sample - loss: 2108.8633 - accuracy: 0.5527\n"
     ]
    },
    {
     "data": {
      "text/plain": [
       "[2108.86328125, 0.55271226]"
      ]
     },
     "execution_count": 76,
     "metadata": {},
     "output_type": "execute_result"
    }
   ],
   "source": [
    "action_onehot = one_hot(action_test, 2)\n",
    "reward_action = Concatenate(axis=2)([reward_test[:, :, np.newaxis], action_onehot])\n",
    "\n",
    "# adding dummy zero to the beginning and ignoring the last one\n",
    "reward_action = ZeroPadding1D(padding=[1, 0])(reward_action)[:, :-1, :]\n",
    "initial_rnn_state = np.zeros((reward_action.shape[0], n_cells,), dtype=np.float32)\n",
    "model.evaluate([reward_action, initial_rnn_state], action_onehot, batch_size=reward_action.shape[0])\n"
   ]
  },
  {
   "cell_type": "markdown",
   "metadata": {},
   "source": [
    "### Off-policy model simulation\n",
    "In this section we show how to simulate the model off-policy. Off-policy simulations are useful to see how the predictions of the model change under different input conditions. The simulation is for 30 trials. In the first 10 trials the taken action is '0' and then it becomes '1' for the rest of the trials. The reward is delivered at trials 4, 14, 22, 27,"
   ]
  },
  {
   "cell_type": "code",
   "execution_count": 77,
   "metadata": {},
   "outputs": [],
   "source": [
    "action_onehot = one_hot(np.array([0] * 10 + [1] * 20)[np.newaxis,], 2)\n",
    "reward = np.zeros((1, 30), dtype=np.float32)\n",
    "reward[:, [4, 14, 22, 27]] = 1\n",
    "\n",
    "# concatinating action and reward and them to RNN as input\n",
    "reward_action = Concatenate(axis=2)([reward[:, :, np.newaxis], action_onehot])\n",
    "\n",
    "# adding dummy zeros to the beginning and ignoring the last one\n",
    "reward_action = ZeroPadding1D(padding=[1, 0])(reward_action)[:, :-1, :]\n",
    "\n",
    "# initial state of RNN\n",
    "initial_rnn_state = np.zeros((reward_action.shape[0], n_cells,), dtype=np.float32)\n",
    "\n",
    "# getting model policy\n",
    "_, policy = sim_model([reward_action, initial_rnn_state])\n"
   ]
  },
  {
   "cell_type": "markdown",
   "metadata": {},
   "source": [
    "We can then plot the policy,"
   ]
  },
  {
   "cell_type": "code",
   "execution_count": 78,
   "metadata": {},
   "outputs": [
    {
     "data": {
      "text/plain": [
       "[<matplotlib.lines.Line2D at 0x14c5f7a58>]"
      ]
     },
     "execution_count": 78,
     "metadata": {},
     "output_type": "execute_result"
    },
    {
     "data": {
      "image/png": "[encoded data removed]",
      "text/plain": [
       "<Figure size 432x288 with 1 Axes>"
      ]
     },
     "metadata": {
      "needs_background": "light"
     },
     "output_type": "display_data"
    }
   ],
   "source": [
    "import matplotlib.pyplot as plt\n",
    "plt.ylim((0,1))\n",
    "plt.xlabel('tiral')\n",
    "plt.ylabel('probablity of action 1')\n",
    "plt.plot(np.arange(policy.shape[1]), policy[0, :, 1])\n",
    "plt.axhline(y=0.5, linewidth=2, color = 'red', linestyle=\"dashed\") \n",
    "plt.plot(5,1, marker=\"v\", color='green')\n",
    "plt.plot(15, 1, marker=\"v\", color='green')\n",
    "plt.plot(23, 1, marker=\"v\", color='green')\n",
    "plt.plot(28, 1, marker=\"v\", color='green')\n"
   ]
  },
  {
   "cell_type": "markdown",
   "metadata": {},
   "source": [
    "### On-policy model simulation\n",
    "In on-policy simulations, the actions are taken by the model. Assume that the probability of earning a reward from the first action is 0.1 and the probability of earning a reward from the second action is 0.3. We aim to simulate the model in the task for 200 trials,"
   ]
  },
  {
   "cell_type": "code",
   "execution_count": 80,
   "metadata": {},
   "outputs": [
    {
     "name": "stdout",
     "output_type": "stream",
     "text": [
      "0.6916120046307332\n"
     ]
    },
    {
     "data": {
      "text/plain": [
       "<matplotlib.lines.Line2D at 0x14e2a5cc0>"
      ]
     },
     "execution_count": 80,
     "metadata": {},
     "output_type": "execute_result"
    },
    {
     "data": {
      "image/png": "[encoded data removed]",
      "text/plain": [
       "<Figure size 432x288 with 1 Axes>"
      ]
     },
     "metadata": {
      "needs_background": "light"
     },
     "output_type": "display_data"
    }
   ],
   "source": [
    "# this is same as the model that we defined earlier, but it \n",
    "\n",
    "L_p = 0.02\n",
    "R_p = 0.3\n",
    "\n",
    "\n",
    "# initial actions and rewards\n",
    "action_onehot = np.zeros([1, 1, 2], dtype=np.float32)\n",
    "reward = np.zeros((1, 1, 1), dtype=np.float32)\n",
    "reward_action = Concatenate(axis=2)([reward, action_onehot])\n",
    "\n",
    "# initial state of RNN\n",
    "rnn_state = np.zeros((reward_action.shape[0], n_cells,), dtype=np.float32)\n",
    "\n",
    "policies = np.zeros((200,))\n",
    "\n",
    "# getting model policy\n",
    "for t in range(policies.shape[0]):\n",
    "    \n",
    "    # getting the policy\n",
    "    rnn_state, policy = sim_model([reward_action, rnn_state])\n",
    "    policies[t] = np.squeeze(policy)[1]\n",
    "    \n",
    "    # gettig the last state of RNN\n",
    "    rnn_state = rnn_state[:, 0, :]\n",
    "\n",
    "    # sampling the actions and rewards\n",
    "    action_onehot = np.zeros([1, 1, 2], dtype=np.float32)\n",
    "    if np.random.random() < np.squeeze(policy)[0]:\n",
    "        action_onehot[0, 0, 0] = 1\n",
    "        if np.random.random() < L_p:\n",
    "            reward = np.ones((1, 1, 1), dtype=np.float32)\n",
    "        else:\n",
    "            reward = np.zeros((1, 1, 1), dtype=np.float32)\n",
    "    else:\n",
    "        action_onehot[0, 0, 1] = 1\n",
    "        if np.random.random() < R_p:\n",
    "            reward = np.ones((1, 1, 1), dtype=np.float32)\n",
    "        else:\n",
    "            reward = np.zeros((1, 1, 1), dtype=np.float32)\n",
    "\n",
    "    reward_action = Concatenate(axis=2)([reward, action_onehot])\n",
    "\n",
    "\n",
    "print(policies.mean())\n",
    "\n",
    "# drawing policies\n",
    "import matplotlib.pyplot as plt\n",
    "plt.ylim((0,1))\n",
    "plt.xlabel('tiral')\n",
    "plt.ylabel('probablity of action 1')\n",
    "plt.plot(np.arange(policies.shape[0]), policies)\n",
    "plt.axhline(y=0.5, linewidth=2, color = 'red', linestyle=\"dashed\") \n",
    "\n"
   ]
  },
  {
   "cell_type": "markdown",
   "metadata": {},
   "source": [
    "### Data with state information\n",
    "So far we have focused on the bandit tasks in which state information is not available. In the case that the state information is available (e.g, there are different stimuli in the task), state information can be fed into the model similar to action and reward information. The only difference is, for predicting action at trial $t$, the action and reward information fed to the model are $a_{t-1}$ and $r_{t-1}$, but the state information fed to the model is for trial $t$, i.e, $s_t$ (see Figure above). \n",
    "\n",
    "We first load  as sample data,"
   ]
  },
  {
   "cell_type": "code",
   "execution_count": 81,
   "metadata": {},
   "outputs": [],
   "source": [
    "import h5py\n",
    "import numpy as np\n",
    "with h5py.File('data/data-state.hdf5', 'r') as f:\n",
    "    # loading actions taken by the subjects\n",
    "    action = f['action'][:].astype(np.int32)\n",
    "    \n",
    "    # loading rewards received by the subjects\n",
    "    reward = f['reward'][:].astype(np.float32)\n",
    "    \n",
    "    # loading state received by the subjects\n",
    "    state = f['state'][:].astype(np.float32)\n",
    "    \n",
    "from tensorflow import one_hot\n",
    "action_onehot = one_hot(action, 2) # action 0 is coded as [1, 0], and action 1 is coded as [0, 1], and -1 is coded as [0, 0]\n",
    "\n",
    "# concatinating action and reward and them to RNN as input\n",
    "reward_action = Concatenate(axis=2)([reward[:, :, np.newaxis], action_onehot])\n",
    "\n",
    "# adding dummy zeros to the beginning and ignoring the last one\n",
    "reward_action = ZeroPadding1D(padding=[1, 0])(reward_action)[:, :-1, :]\n",
    "    \n",
    "# adding state information\n",
    "reward_action_state = Concatenate(axis=2)([reward_action, state])\n",
    "    "
   ]
  },
  {
   "cell_type": "markdown",
   "metadata": {},
   "source": [
    "Next, we define the model. Note that this is similar to the bandit case, but state_size is 3 instead of zero,"
   ]
  },
  {
   "cell_type": "code",
   "execution_count": 82,
   "metadata": {},
   "outputs": [],
   "source": [
    "import tensorflow as tf\n",
    "import tensorflow.keras.layers as kl\n",
    "\n",
    "n_actions = 2    # there are two actions\n",
    "state_size = 3   # there is only state in the bandit task, so we don't pass the state information to the model\n",
    "n_cells = 5      # number of cells in the recurrent neural network\n",
    "\n",
    "# inputs to the model. Dim: S x T x (1 + n_actions + state_size).\n",
    "model_inputs = tf.keras.Input(shape=(None, 1 + n_actions + state_size), name='reward_action')\n",
    "\n",
    "# initial state of the RNN, Dim: S x n_cells\n",
    "rnn_initial_state = tf.keras.Input(shape=(n_cells,), name='initial_state')\n",
    "\n",
    "# output of the recurrent nerual network. Dim: S x T x n_cells\n",
    "rnn_out = kl.GRU(n_cells, return_sequences=True, name='GRU')(model_inputs, initial_state=rnn_initial_state)\n",
    "\n",
    "# policy -- probablity of taking each action. Dim: S x T x n_actions\n",
    "policy = kl.Dense(n_actions, activation='softmax', name='policy')(rnn_out)\n",
    "\n",
    "# defining the model\n",
    "model = tf.keras.Model(inputs=[model_inputs, rnn_initial_state], outputs=policy, name='model')\n",
    "\n",
    "# this model will be used for off-policy simulations in which we need to track rnn state\n",
    "sim_model = tf.keras.Model(inputs=[model_inputs,rnn_initial_state], outputs=[rnn_out, policy])"
   ]
  },
  {
   "cell_type": "markdown",
   "metadata": {},
   "source": [
    "and then fitting the model,"
   ]
  },
  {
   "cell_type": "code",
   "execution_count": 84,
   "metadata": {},
   "outputs": [
    {
     "name": "stdout",
     "output_type": "stream",
     "text": [
      "started model fitting... (please wait)\n",
      "finished model fitting.\n"
     ]
    }
   ],
   "source": [
    "# defining the optimiser\n",
    "optimizer = tf.keras.optimizers.Adam(learning_rate=1e-2)\n",
    "\n",
    "# initial state of RNN\n",
    "initial_rnn_state = np.zeros((reward_action_state.shape[0], n_cells,), dtype=np.float32)\n",
    "\n",
    "# defining loss\n",
    "def loss(y_true, y_pred):\n",
    "    return kb.sum(categorical_crossentropy(y_true, y_pred))\n",
    "\n",
    "model.compile(optimizer=optimizer, loss=loss, metrics=['accuracy'])\n",
    "\n",
    "print('started model fitting... (please wait)')\n",
    "\n",
    "# training the model. Change verbose to 2 to see training process. Change ephocs are required\n",
    "model.fit([reward_action_state, initial_rnn_state], action_onehot, epochs=200, batch_size=reward_action_state.shape[0], verbose=0)\n",
    "print('finished model fitting.')\n"
   ]
  },
  {
   "cell_type": "markdown",
   "metadata": {},
   "source": [
    "The rest of the analysis such as simulations can be done similar to the bandit case."
   ]
  },
  {
   "cell_type": "markdown",
   "metadata": {},
   "source": [
    "### See also\n",
    "The model above and materials are based on [this paper](https://journals.plos.org/ploscompbiol/article?id=10.1371/journal.pcbi.1006903),\n",
    "\n",
    "* Dezfouli, A., Griffiths, K., Ramos, F., Dayan, P., & Balleine, B. W. (2019). Models that learn how humans learn: the case of decision-making and its disorders. PLoS computational biology, 15(6), e1006903.\n",
    "\n",
    "There are two extensions to this framework. In the [first extension](https://www.biorxiv.org/content/10.1101/658252v1), instead of fitting a single model to the whole group, a different network is learned for each subject using auto-encoders. The reference is below:\n",
    "\n",
    "* Dezfouli, A., Ashtiani, H., Ghattas, O., Nock, R., Dayan, P., & Ong, C. S. (2019). Disentangled behavioral representations. bioRxiv, 658252.\n",
    "\n",
    "In the [second extension](https://www.biorxiv.org/content/10.1101/328849v2) to this framework, an RNN is fitted jointly to neural (fMRI) and behavioural data,\n",
    "\n",
    "* Dezfouli, A., Morris, R., Ramos, F. T., Dayan, P., & Balleine, B. (2018). Integrated accounts of behavioral and neuroimaging data using flexible recurrent neural network models. In Advances in Neural Information Processing Systems (pp. 4228-4237).\n",
    "\n",
    "\n"
   ]
  }
 ],
 "metadata": {
  "kernelspec": {
   "display_name": "Python 3",
   "language": "python",
   "name": "python3"
  },
  "language_info": {
   "codemirror_mode": {
    "name": "ipython",
    "version": 3
   },
   "file_extension": ".py",
   "mimetype": "text/x-python",
   "name": "python",
   "nbconvert_exporter": "python",
   "pygments_lexer": "ipython3",
   "version": "3.7.2"
  }
 },
 "nbformat": 4,
 "nbformat_minor": 2
}