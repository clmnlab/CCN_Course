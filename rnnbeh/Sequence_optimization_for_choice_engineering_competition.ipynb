{
  "nbformat": 4,
  "nbformat_minor": 0,
  "metadata": {
    "colab": {
      "provenance": [],
      "toc_visible": true
    },
    "kernelspec": {
      "display_name": "Python 3",
      "name": "python3"
    },
    "language_info": {
      "name": "python"
    }
  },
  "cells": [
    {
      "cell_type": "markdown",
      "metadata": {
        "id": "PdSocSrSf-3e"
      },
      "source": [
        "# Summary\n",
        "This notebook defines The CATIE [1] model and then optimizes a static and dynamic reward schedule as defined in the choice engineering competition [2]. The general model of CAITE is implemented here for the specific context of the competition, that is a sequence of 100 choices between two alternatives that each yield 25 binary rewards (\"1\") and 75 trials without reward (\"0\").\n",
        "\n",
        "\n",
        "\n",
        "---\n",
        "[1] Plonsky, Ori, and Ido Erev. \"Learning in settings with partial feedback and the wavy recency effect of rare events.\" Cognitive Psychology 93 (2017): 18-43.\n",
        "\n",
        "[2] Dan, Ohad, and Yonatan Loewenstein. \"From choice architecture to choice engineering.\" Nature communications 10.1 (2019): 1-4."
      ]
    },
    {
      "cell_type": "markdown",
      "metadata": {
        "id": "kXUYosiNP8Zc"
      },
      "source": [
        "# Define CATIE model"
      ]
    },
    {
      "cell_type": "markdown",
      "metadata": {
        "id": "Ris318BCQE8d"
      },
      "source": [
        "Imports:"
      ]
    },
    {
      "cell_type": "code",
      "metadata": {
        "id": "-Mp6SWLcP7d1"
      },
      "source": [
        "import random\n",
        "import statistics\n",
        "import numpy as np\n",
        "import matplotlib.pyplot as plt\n",
        "%matplotlib inline"
      ],
      "execution_count": null,
      "outputs": []
    },
    {
      "cell_type": "markdown",
      "metadata": {
        "id": "S6kJFJR0hiCF"
      },
      "source": [
        "Model constants:"
      ]
    },
    {
      "cell_type": "code",
      "metadata": {
        "id": "fqlo6lI-hlp1"
      },
      "source": [
        "REWARDS_PER_SEQ = 25\n",
        "\n",
        "PHI = 0.71\n",
        "TAU = 0.29\n",
        "EPSILON = 0.3\n",
        "\n",
        "CHOICE_BIASED = 1\n",
        "CHOICE_ANTI_BIASED = -1"
      ],
      "execution_count": null,
      "outputs": []
    },
    {
      "cell_type": "markdown",
      "metadata": {
        "id": "ey_HXwvtQO9l"
      },
      "source": [
        "Helper functions"
      ]
    },
    {
      "cell_type": "code",
      "metadata": {
        "id": "vXoHjY9UQUG6"
      },
      "source": [
        "def choose_randomly():\n",
        "  \"\"\" Return either of the alternatives with 50% chance \"\"\"\n",
        "  if random.random() < 0.5:\n",
        "      choice = CHOICE_BIASED\n",
        "  else:\n",
        "      choice = CHOICE_ANTI_BIASED\n",
        "  return choice\n",
        "\n",
        "\n",
        "def other_alternative(a):\n",
        "  \"\"\"\n",
        "  Given alternative a return the other alternative:\n",
        "    CHOICE_BIASED --> CHOICE_ANTI_BIASED\n",
        "    CHOICE_ANTI_BIASED --> CHOICE_BIASED\n",
        "  \"\"\"\n",
        "  if a is CHOICE_BIASED:\n",
        "      return CHOICE_ANTI_BIASED\n",
        "  if a is CHOICE_ANTI_BIASED:\n",
        "      return CHOICE_BIASED"
      ],
      "execution_count": null,
      "outputs": []
    },
    {
      "cell_type": "markdown",
      "metadata": {
        "id": "VttEiZp4RY_x"
      },
      "source": [
        "## Define the CATIE class"
      ]
    },
    {
      "cell_type": "markdown",
      "metadata": {
        "id": "SpTVzYGla329"
      },
      "source": [
        "Helper constant - **Trend**\n",
        "\n",
        "The model defines three types of outcome \"trends\":\n",
        "\n",
        "\n",
        "1. ***Invalid*** - Trend is only defined if the same alternative has been chosen twice in a sequence; if this is not the case, current trend is not defined (here, termed \"invalid\").\n",
        "1. ***Positive*** - the outcomes of current and previous choices were of the same alternative and the previous outcome (at t-1) exceeds that of the trial before it (at t-2).\n",
        "1. ***Negative*** - the outcomes of current and previous choices were of the same alternative and the previous outcome (at t-1) does not exceed that of the trial before it (at t-2).\n",
        "\n"
      ]
    },
    {
      "cell_type": "code",
      "metadata": {
        "id": "1rELpeVHa6Tc"
      },
      "source": [
        "class Trend:\n",
        "  ''' Assign a numerical representation to each of the trend types '''\n",
        "  POSITIVE = 1\n",
        "  NON_POSITIVE = -1\n",
        "  INVALID = 0"
      ],
      "execution_count": null,
      "outputs": []
    },
    {
      "cell_type": "markdown",
      "metadata": {
        "id": "jT2KFBoZa8Lo"
      },
      "source": [
        "Class implementation:"
      ]
    },
    {
      "cell_type": "code",
      "metadata": {
        "id": "YgukmlGMPvxX"
      },
      "source": [
        "class CatieAgent:\n",
        "    def __init__(self, K=2):\n",
        "        self.tau = TAU\n",
        "        self.phi = PHI\n",
        "        self.epsilon = EPSILON\n",
        "        self.K = K\n",
        "        self.k= random.randint(0, K)\n",
        "        self.trial_number = 0\n",
        "        self.choices = []\n",
        "        self.surprises = []\n",
        "        self.outcomes = []\n",
        "        self.outcomes_biased = []\n",
        "        self.outcomes_anti_biased = []\n",
        "\n",
        "    def get_p_explore(self):\n",
        "      if len(self.surprises)==0:\n",
        "        p_explore = self.epsilon*1/3\n",
        "      else:\n",
        "        p_explore = self.epsilon*(1 + self.surprises[-1] + statistics.mean(self.surprises))/3\n",
        "      return p_explore\n",
        "\n",
        "    def get_trend(self):\n",
        "      '''\n",
        "      Probability for entering Explore mode\n",
        "      '''\n",
        "      if (len(self.choices)<2 or\n",
        "          self.choices[-1] != self.choices[-2]):\n",
        "        trend = Trend().INVALID\n",
        "      elif self.outcomes[-1] > self.outcomes[-2]:\n",
        "        trend = Trend().POSITIVE\n",
        "      else:\n",
        "        trend = Trend().NON_POSITIVE\n",
        "      return trend\n",
        "\n",
        "    def choose(self):\n",
        "      '''\n",
        "      Return a single choice based on current state using the four decision\n",
        "      modes.\n",
        "      '''\n",
        "        # On the first two trials, choose randomly\n",
        "      if self.trial_number == 0:\n",
        "        choice = random.choice([CHOICE_BIASED, CHOICE_ANTI_BIASED])\n",
        "      elif self.trial_number == 1:\n",
        "        if self.choices[0] == CHOICE_BIASED:\n",
        "          choice = CHOICE_ANTI_BIASED\n",
        "        elif self.choices[0] == CHOICE_ANTI_BIASED:\n",
        "          choice = CHOICE_BIASED\n",
        "      else:\n",
        "      # Trend/Heuristic mode\n",
        "        if ((self.choices[-1] == self.choices[-2]) and # if the same alternative was chosen in the last two trials\n",
        "            (self.outcomes[-1] != self.outcomes[-2]) and # and it had different outcomes\n",
        "            (random.random() < self.tau)):  # enter heuristic mode with probability phi\n",
        "      # If there is a positive trend, continue choosing the same alternative, if not switch\n",
        "          if self.outcomes[-1] > self.outcomes[-2]:\n",
        "            choice = self.choices[-1]\n",
        "          else:\n",
        "            choice = other_alternative(self.choices[-1])\n",
        "      # Explore mode\n",
        "        elif random.random() < self.get_p_explore():\n",
        "          choice = choose_randomly()\n",
        "      # Inertia mode\n",
        "        elif random.random() < self.phi:\n",
        "          choice = self.choices[-1]\n",
        "      # Contingent average mode\n",
        "        else:\n",
        "          ca_biased = self.__contingent_average(self.k, CHOICE_BIASED)\n",
        "          ca_anti_biased = self.__contingent_average(self.k, CHOICE_ANTI_BIASED)\n",
        "          if (ca_biased == ca_anti_biased or\n",
        "            ca_biased is None or ca_anti_biased is None):\n",
        "              choice = choose_randomly()\n",
        "          elif ca_biased > ca_anti_biased:\n",
        "              choice = CHOICE_BIASED\n",
        "          elif ca_biased < ca_anti_biased:\n",
        "              choice = CHOICE_ANTI_BIASED\n",
        "      return choice\n",
        "\n",
        "    def __contingent_average_specific_contingency(self, k, alternative, contingency):\n",
        "        '''\n",
        "        Return the alternative's contingent average or None if it has now contingencies.\n",
        "        '''\n",
        "        ca_outcomes = []\n",
        "        for i in range(len(self.outcomes) - k):\n",
        "            if (self.outcomes[i:i + k] == contingency) and (self.choices[i + k] == alternative):\n",
        "                ca_outcomes.append(self.outcomes[i + k])\n",
        "        return ca_outcomes\n",
        "\n",
        "    def __contingent_average(self, k, alternative):\n",
        "      '''\n",
        "      The contingent average of the input alternative.\n",
        "      '''\n",
        "      if k == 0:\n",
        "        ca_outcomes = self.outcomes_biased if alternative == CHOICE_BIASED else self.outcomes_anti_biased\n",
        "      else:\n",
        "        current_contingency = self.outcomes[-k:]\n",
        "        ca_outcomes = self.__contingent_average_specific_contingency(k, alternative, current_contingency)\n",
        "        if not ca_outcomes:  # If there aren't any contingencies like the current one\n",
        "          alternative_choice_indices = [i for i in range((k-1), len(self.choices)) if self.choices[i] == alternative]\n",
        "          all_k_contingencies = [self.outcomes[i:i+k] for i in alternative_choice_indices]\n",
        "          if alternative_choice_indices:\n",
        "            ca_outcomes = self.__contingent_average_specific_contingency(k, alternative, random.choice(all_k_contingencies))\n",
        "          else:\n",
        "            ca_outcomes = self.__contingent_average(k - 1, alternative)\n",
        "      if not ca_outcomes:  # If there aren't any outcomes of the current\n",
        "                            # alternative\n",
        "        return None\n",
        "      else:\n",
        "        return statistics.mean(ca_outcomes)\n",
        "\n",
        "    def get_contingent_average(self):\n",
        "      '''\n",
        "      Return the contingent average of both alterhatives.\n",
        "      '''\n",
        "      return (self.__contingent_average(self.k, CHOICE_BIASED),\n",
        "              self.__contingent_average(self.k, CHOICE_ANTI_BIASED))\n",
        "\n",
        "    def receive_outcome(self, choice, outcome):\n",
        "      '''\n",
        "      Updated internal state for receiving the input outcome as the result of\n",
        "      choosing the input choice.\n",
        "      '''\n",
        "      self.choices.append(choice)\n",
        "      self.outcomes.append(outcome)\n",
        "      if choice == CHOICE_BIASED:\n",
        "        obs_sd = 0 if len(self.outcomes_biased) < 2 else statistics.stdev(self.outcomes_biased) # stddv is only defined for2 or more numbers\n",
        "        self.outcomes_biased.append(outcome)\n",
        "      elif choice == CHOICE_ANTI_BIASED:\n",
        "        obs_sd = 0 if len(self.outcomes_anti_biased) < 2 else statistics.stdev(self.outcomes_anti_biased)\n",
        "        self.outcomes_anti_biased.append(outcome)\n",
        "      if obs_sd > 0:\n",
        "        exp_t_i = self.__contingent_average(self.k, choice)\n",
        "        if exp_t_i is None:\n",
        "          surprise_t = 0\n",
        "        else:\n",
        "          expected_actual_reward_diff = abs(exp_t_i-outcome)\n",
        "          surprise_t = expected_actual_reward_diff/(obs_sd + expected_actual_reward_diff)\n",
        "      else:\n",
        "        surprise_t = 0\n",
        "      self.surprises.append(surprise_t)\n",
        "      self.trial_number += 1\n"
      ],
      "execution_count": null,
      "outputs": []
    },
    {
      "cell_type": "markdown",
      "metadata": {
        "id": "eeyFoLD9R4_y"
      },
      "source": [
        "# Test reward schedules on the model"
      ]
    },
    {
      "cell_type": "markdown",
      "metadata": {
        "id": "oORWIJ0KMhSp"
      },
      "source": [
        "Calculate average bias for a given sequence\n"
      ]
    },
    {
      "cell_type": "code",
      "metadata": {
        "id": "WqutWtc1MkRa"
      },
      "source": [
        "def sequence_catie_score(reward_schedule,\n",
        "                                      repetitions=100, plot_distribution=False,\n",
        "                         plot_sequence=False):\n",
        "  schedule_target, schedule_anti_target = reward_schedule[0], reward_schedule[1]\n",
        "  biases = []\n",
        "  for i in range(repetitions):\n",
        "    catie_agent = CatieAgent()\n",
        "    choices = []\n",
        "    for reward_targe, reward_anti_target in zip(\n",
        "        schedule_target, schedule_anti_target):\n",
        "      choice = catie_agent.choose()\n",
        "      outcome = reward_targe if choice==CHOICE_BIASED else reward_anti_target\n",
        "      catie_agent.receive_outcome(choice, outcome)\n",
        "      choices.append(choice)\n",
        "    biases.append(choices.count(CHOICE_BIASED))\n",
        "  if plot_sequence:\n",
        "    plt.plot([i+1 for i in range(100) if reward_schedule[0][i]], 2*np.ones(25),'x')\n",
        "    plt.plot([i+1 for i in range(100) if reward_schedule[1][i]], np.ones(25),'x')\n",
        "    plt.ylim([0.5, 2.5])\n",
        "    plt.xlabel('Trial number')\n",
        "    plt.ylabel('Is reward')\n",
        "    plt.yticks([1,2], ['Anti side', 'Target side'])\n",
        "  if plot_distribution:\n",
        "    plt.figure()\n",
        "    plt.hist(biases, alpha=0.5, density=True)\n",
        "    plt.ylabel('Probability')\n",
        "    plt.xlabel('Bias')\n",
        "    plt.axvline(statistics.mean(biases), color='k', linestyle='dashed', linewidth=1)\n",
        "    min_ylim, max_ylim = plt.ylim()\n",
        "    plt.text(statistics.mean(biases)*1.1, max_ylim*0.9, 'Mean: {:.2f}'.format(statistics.mean(biases)))\n",
        "  return biases, statistics.mean(biases)"
      ],
      "execution_count": null,
      "outputs": []
    },
    {
      "cell_type": "markdown",
      "metadata": {
        "id": "jB01tPVwKhT0"
      },
      "source": [
        "## Random sequence (sanity check)"
      ]
    },
    {
      "cell_type": "markdown",
      "metadata": {
        "id": "-WLjghvut8yR"
      },
      "source": [
        "Average bias should be ~50"
      ]
    },
    {
      "cell_type": "code",
      "metadata": {
        "colab": {
          "base_uri": "https://localhost:8080/",
          "height": 299
        },
        "id": "qt_YpIsQSqVw",
        "outputId": "ea661170-1f4d-4293-9067-20b267a2aa5e"
      },
      "source": [
        "def valid_one_side_allocation(shuffle=False):\n",
        "  valid_seq = np.concatenate((np.zeros(75),np.ones(25)))\n",
        "  if shuffle:\n",
        "    np.random.shuffle(valid_seq)\n",
        "  return valid_seq\n",
        "\n",
        "def random_valid_sequence():\n",
        "  return valid_one_side_allocation(True), valid_one_side_allocation(True)\n",
        "\n",
        "NUMBER_OF_RANDOM_SEQ = 100\n",
        "REPETITIONS_PER_SEQ = 50\n",
        "\n",
        "random_seq_mean_biases = [sequence_catie_score(random_valid_sequence(), REPETITIONS_PER_SEQ)[1] for i in range(NUMBER_OF_RANDOM_SEQ)]\n",
        "plt.hist(random_seq_mean_biases, alpha=0.5, density=True)\n",
        "plt.ylabel('Probability')\n",
        "plt.xlabel('Bias')\n",
        "plt.axvline(statistics.mean(random_seq_mean_biases), color='k', linestyle='dashed', linewidth=1)\n",
        "min_ylim, max_ylim = plt.ylim()\n",
        "plt.text(statistics.mean(random_seq_mean_biases)*1.1, max_ylim*0.9, 'Mean: {:.2f}'.format(statistics.mean(random_seq_mean_biases)))"
      ],
      "execution_count": null,
      "outputs": [
        {
          "output_type": "execute_result",
          "data": {
            "text/plain": [
              "Text(56.15896000000001, 0.09041181364392693, 'Mean: 51.05')"
            ]
          },
          "metadata": {},
          "execution_count": 7
        },
        {
          "output_type": "display_data",
          "data": {
            "text/plain": [
              "<Figure size 432x288 with 1 Axes>"
            ],
            "image/png": "[encoded data removed]"
          },
          "metadata": {
            "needs_background": "light"
          }
        }
      ]
    },
    {
      "cell_type": "markdown",
      "metadata": {
        "id": "Zrc_e-gSzFLd"
      },
      "source": [
        "## Score of optimized Q-learning (with parmeters fitted to the competition data)"
      ]
    },
    {
      "cell_type": "code",
      "metadata": {
        "colab": {
          "base_uri": "https://localhost:8080/",
          "height": 734
        },
        "id": "oAymeEm6zqyV",
        "outputId": "8d33a4e4-59bf-4e08-ce8a-1ca38b036f8d"
      },
      "source": [
        "ql_fit_het = np.array([1.,1.,0.,0.,0.,0.,0.,0.,0.,1.,1.,0.,0.,1.,0.,0.,1.,1.,0.,0.,0.,1.,0.,0.,0.,0.,1.,0.,0.,0.,0.,1.,0.,0.,1.,0.,0.,0.,0.,1.,0.,0.,0.,1.,0.,0.,0.,0.,0.,0.,1.,0.,0.,0.,1.,1.,0.,0.,0.,0.,0.,0.,0.,0.,0.,0.,1.,1.,0.,1.,1.,0.,0.,1.,0.,0.,0.,1.,0.,0.,1.,0.,0.,0.,0.,1.,0.,0.,0.,0.,0.,0.,0.,0.,0.,1.,0.,0.,0.,0.]), np.array([0.,0.,0.,0.,0.,0.,0.,0.,0.,0.,0.,1.,0.,0.,0.,0.,0.,0.,1.,0.,0.,1.,0.,0.,0.,0.,1.,0.,0.,0.,0.,0.,0.,0.,0.,0.,1.,0.,1.,0.,0.,1.,0.,0.,0.,0.,1.,0.,0.,0.,0.,1.,0.,0.,0.,0.,1.,0.,1.,0.,0.,0.,0.,1.,0.,0.,0.,1.,0.,0.,0.,0.,0.,1.,1.,0.,0.,0.,0.,0.,1.,0.,1.,0.,0.,0.,0.,0.,1.,0.,1.,1.,0.,1.,0.,1.,0.,1.,1.,1.])\n",
        "ql_fit_hom = np.array([1.,1.,0.,0.,0.,0.,0.,0.,0.,0.,0.,0.,1.,1.,0.,0.,0.,0.,0.,0.,0.,0.,1.,0.,0.,0.,0.,0.,1.,1.,0.,0.,0.,0.,0.,0.,0.,0.,1.,0.,0.,1.,0.,0.,1.,0.,1.,0.,0.,0.,1.,1.,0.,0.,0.,0.,1.,0.,1.,1.,0.,0.,1.,0.,0.,0.,1.,0.,1.,1.,0.,1.,0.,0.,1.,0.,0.,0.,0.,0.,0.,0.,1.,0.,1.,1.,0.,0.,0.,0.,0.,0.,0.,0.,0.,0.,0.,0.,0.,0.]), np.array([0.,0.,0.,0.,0.,0.,0.,0.,0.,0.,0.,0.,0.,0.,0.,0.,0.,0.,0.,0.,0.,0.,0.,0.,0.,0.,0.,0.,0.,0.,1.,0.,0.,0.,0.,0.,0.,0.,0.,0.,0.,0.,0.,0.,0.,0.,0.,1.,1.,0.,0.,1.,1.,0.,0.,0.,0.,0.,0.,0.,1.,1.,0.,0.,0.,0.,0.,1.,0.,1.,1.,0.,1.,0.,0.,1.,0.,0.,0.,0.,0.,0.,0.,0.,0.,1.,1.,0.,0.,1.,1.,1.,1.,1.,1.,1.,1.,1.,1.,1.])\n",
        "\n",
        "mean_bias_ql_fit_hom = sequence_catie_score(ql_fit_hom, 1000, True, True)[1]\n",
        "print(ql_fit_hom)"
      ],
      "execution_count": null,
      "outputs": [
        {
          "output_type": "stream",
          "name": "stdout",
          "text": [
            "(array([1., 1., 0., 0., 0., 0., 0., 0., 0., 0., 0., 0., 1., 1., 0., 0., 0.,\n",
            "       0., 0., 0., 0., 0., 1., 0., 0., 0., 0., 0., 1., 1., 0., 0., 0., 0.,\n",
            "       0., 0., 0., 0., 1., 0., 0., 1., 0., 0., 1., 0., 1., 0., 0., 0., 1.,\n",
            "       1., 0., 0., 0., 0., 1., 0., 1., 1., 0., 0., 1., 0., 0., 0., 1., 0.,\n",
            "       1., 1., 0., 1., 0., 0., 1., 0., 0., 0., 0., 0., 0., 0., 1., 0., 1.,\n",
            "       1., 0., 0., 0., 0., 0., 0., 0., 0., 0., 0., 0., 0., 0., 0.]), array([0., 0., 0., 0., 0., 0., 0., 0., 0., 0., 0., 0., 0., 0., 0., 0., 0.,\n",
            "       0., 0., 0., 0., 0., 0., 0., 0., 0., 0., 0., 0., 0., 1., 0., 0., 0.,\n",
            "       0., 0., 0., 0., 0., 0., 0., 0., 0., 0., 0., 0., 0., 1., 1., 0., 0.,\n",
            "       1., 1., 0., 0., 0., 0., 0., 0., 0., 1., 1., 0., 0., 0., 0., 0., 1.,\n",
            "       0., 1., 1., 0., 1., 0., 0., 1., 0., 0., 0., 0., 0., 0., 0., 0., 0.,\n",
            "       1., 1., 0., 0., 1., 1., 1., 1., 1., 1., 1., 1., 1., 1., 1.]))\n"
          ]
        },
        {
          "output_type": "display_data",
          "data": {
            "image/png": "[encoded data removed]",
            "text/plain": [
              "<Figure size 432x288 with 1 Axes>"
            ]
          },
          "metadata": {
            "needs_background": "light"
          }
        },
        {
          "output_type": "display_data",
          "data": {
            "image/png": "[encoded data removed]",
            "text/plain": [
              "<Figure size 432x288 with 1 Axes>"
            ]
          },
          "metadata": {
            "needs_background": "light"
          }
        }
      ]
    },
    {
      "cell_type": "markdown",
      "metadata": {
        "id": "tLxEYpBEP-o3"
      },
      "source": [
        "# Optimize static sequence\n"
      ]
    },
    {
      "cell_type": "markdown",
      "metadata": {
        "id": "znYYJ_usQp9S"
      },
      "source": [
        "## Define a valid CATIE sequence\n",
        "\n",
        "\n"
      ]
    },
    {
      "cell_type": "code",
      "metadata": {
        "id": "iPuB9dSORBu3"
      },
      "source": [
        "def catie_naive_optimization_seq():\n",
        "  target_side = np.concatenate((np.ones(25),np.zeros(75)))\n",
        "  anti_target_side = np.concatenate((np.zeros(75),np.ones(25)))\n",
        "  return target_side, anti_target_side\n"
      ],
      "execution_count": null,
      "outputs": []
    },
    {
      "cell_type": "markdown",
      "metadata": {
        "id": "oPl93dupWXmC"
      },
      "source": [
        "## Optimization\n",
        "Plonsky suggests manually defining that *k* of the first choices in the target side are manually set to provide reward."
      ]
    },
    {
      "cell_type": "markdown",
      "metadata": {
        "id": "_QZjoAEZBBzl"
      },
      "source": [
        "### Helper functions"
      ]
    },
    {
      "cell_type": "code",
      "metadata": {
        "id": "lr6cE0LZBE-Q"
      },
      "source": [
        "K = 5\n",
        "\n",
        "indices_for_shuffle_target = list(range(K,100))\n",
        "indices_for_shuffle_anti_target = list(range(0,100))\n",
        "\n",
        "\n",
        "def reshuffle_k_random_elements(v, num_elm_shuffle, indices_for_shuffle):\n",
        "  random.shuffle(indices_for_shuffle_target)\n",
        "  random_elements_indices = indices_for_shuffle_target[0:num_elm_shuffle]\n",
        "  random_elements_indices_reshuffled = random_elements_indices.copy()\n",
        "  random.shuffle(random_elements_indices_reshuffled)\n",
        "  v[random_elements_indices] = v[random_elements_indices_reshuffled]\n",
        "\n",
        "def mutate(seq, num_elm_shuffle):\n",
        "  '''\n",
        "  Reshuffle (in place) the value of num_elm_shuffle indices in:\n",
        "    a. All elements of the target alternative, sparing the first K\n",
        "    b. All elements of the target alternative\n",
        "  '''\n",
        "  seq = np.copy(seq)\n",
        "  reshuffle_k_random_elements(seq[0], num_elm_shuffle, indices_for_shuffle_target)\n",
        "  reshuffle_k_random_elements(seq[1], num_elm_shuffle, indices_for_shuffle_anti_target)\n",
        "  return seq"
      ],
      "execution_count": null,
      "outputs": []
    },
    {
      "cell_type": "markdown",
      "metadata": {
        "id": "8xqbFwTGBt3D"
      },
      "source": [
        "### Optimize\n",
        "Optimize a static sequence following the procedure described in the [supplementary](https://static-content.springer.com/esm/art%3A10.1038%2Fs41467-019-10825-6/MediaObjects/41467_2019_10825_MOESM1_ESM.pdf) of the \"from choice architecture to choice engineering\" paper."
      ]
    },
    {
      "cell_type": "code",
      "metadata": {
        "colab": {
          "base_uri": "https://localhost:8080/",
          "height": 472
        },
        "id": "PAgsU_Y9ios0",
        "outputId": "d60a2301-38d8-4db2-82f1-48acc84d1a93"
      },
      "source": [
        "# Optimization contstnats\n",
        "IS_STATIC_OPTIMIZATION_DEBUG = True\n",
        "if IS_STATIC_OPTIMIZATION_DEBUG:\n",
        "  OPTIMIZATION_TRIALS = 5\n",
        "  GENERATION_SIZE = 2\n",
        "else:\n",
        "  OPTIMIZATION_TRIALS = 120\n",
        "  GENERATION_SIZE = 8\n",
        "\n",
        "INITIAL_NUMBER_RESHUFLLE_ELEMETNS = 60\n",
        "\n",
        "number_elemetns_to_reshufle_per_iteration = np.floor(np.linspace(INITIAL_NUMBER_RESHUFLLE_ELEMETNS, 2, num=OPTIMIZATION_TRIALS))\n",
        "repetitions_for_score_calculation_per_iteration = np.floor(np.linspace(30, 300, num=OPTIMIZATION_TRIALS))\n",
        "\n",
        "sequences = [catie_naive_optimization_seq() for i in range(GENERATION_SIZE)]\n",
        "best = catie_naive_optimization_seq()\n",
        "mean_biases = []\n",
        "# Runt the static optimization iteratively\n",
        "for ii in range(OPTIMIZATION_TRIALS):\n",
        "  repetition_per_sequence = int(repetitions_for_score_calculation_per_iteration[ii])\n",
        "  sequences_score = [sequence_catie_score(sequence, repetition_per_sequence)[1] for sequence in sequences]\n",
        "  mean_biases.append(max(sequences_score))\n",
        "  best = sequences[np.argmax(sequences_score)]\n",
        "  num_elements_to_shuffle = int(number_elemetns_to_reshufle_per_iteration[ii])\n",
        "  sequences = [best] + [random_valid_sequence()] + [mutate(best, num_elements_to_shuffle) for i in range(GENERATION_SIZE-1)]\n",
        "\n",
        "  plt.plot(mean_biases)\n",
        "  plt.xlabel('Trial number')\n",
        "  plt.ylabel('Mean bias')\n",
        "  plt.draw()\n",
        "\n",
        "print(best)"
      ],
      "execution_count": null,
      "outputs": [
        {
          "output_type": "stream",
          "name": "stdout",
          "text": [
            "(array([1., 1., 1., 1., 1., 1., 1., 1., 1., 1., 1., 1., 1., 1., 1., 1., 1.,\n",
            "       1., 1., 1., 1., 1., 1., 1., 1., 0., 0., 0., 0., 0., 0., 0., 0., 0.,\n",
            "       0., 0., 0., 0., 0., 0., 0., 0., 0., 0., 0., 0., 0., 0., 0., 0., 0.,\n",
            "       0., 0., 0., 0., 0., 0., 0., 0., 0., 0., 0., 0., 0., 0., 0., 0., 0.,\n",
            "       0., 0., 0., 0., 0., 0., 0., 0., 0., 0., 0., 0., 0., 0., 0., 0., 0.,\n",
            "       0., 0., 0., 0., 0., 0., 0., 0., 0., 0., 0., 0., 0., 0., 0.]), array([0., 0., 0., 0., 0., 0., 0., 0., 0., 0., 0., 0., 0., 0., 0., 0., 0.,\n",
            "       0., 0., 0., 0., 0., 0., 0., 0., 0., 0., 0., 0., 0., 0., 0., 0., 0.,\n",
            "       0., 0., 0., 0., 0., 0., 0., 0., 0., 0., 0., 0., 0., 0., 0., 0., 0.,\n",
            "       0., 0., 0., 0., 0., 0., 0., 0., 0., 0., 0., 0., 0., 0., 0., 0., 0.,\n",
            "       0., 0., 0., 0., 0., 0., 0., 1., 1., 1., 1., 1., 1., 1., 1., 1., 1.,\n",
            "       1., 1., 1., 1., 1., 1., 1., 1., 1., 1., 1., 1., 1., 1., 1.]))\n"
          ]
        },
        {
          "output_type": "display_data",
          "data": {
            "image/png": "[encoded data removed]",
            "text/plain": [
              "<Figure size 432x288 with 1 Axes>"
            ]
          },
          "metadata": {
            "needs_background": "light"
          }
        }
      ]
    },
    {
      "cell_type": "markdown",
      "metadata": {
        "id": "xCM-a8x66ERN"
      },
      "source": [
        "\n",
        "\n",
        "\n",
        "\n",
        "\n",
        "\n",
        "\n",
        "\n",
        "\n",
        "\n",
        "\n",
        "## Score of optimized\n",
        "Test the performance of the potimized sequence vs. the \"naive optimal\" (25 rewards at the beginning of the target and at the end of the anti target).\n",
        "As sanity check, test the bias distribution of sending the optimized sequence where the target is anti targer and vice versa (should be symmetric around 50)."
      ]
    },
    {
      "cell_type": "code",
      "metadata": {
        "colab": {
          "base_uri": "https://localhost:8080/",
          "height": 560
        },
        "id": "cXvkGDyg50M8",
        "outputId": "5b9f3489-d379-417a-d441-9733e1de479d"
      },
      "source": [
        "optimized_switched = np.array([0., 0., 0., 0., 0., 0., 0., 0., 0., 0., 0., 0., 0., 0., 0., 0., 0., 0., 0., 0., 0., 0., 0., 0.,\n",
        "  0., 0., 0., 0., 0., 0., 0., 0., 0., 0., 0., 0., 0., 0., 0., 0., 0., 0., 0., 0., 0., 0., 0., 0.,\n",
        "  0., 0., 0., 0., 0., 0., 0., 0., 0., 0., 0., 0., 1., 0., 0., 0., 0., 0., 0., 0., 0., 0., 1., 0.,\n",
        "  0., 0., 0., 1., 1., 1., 1., 1., 1., 1., 1., 1., 1., 1., 1., 1., 1., 1., 1., 0., 1., 1., 1., 1.,\n",
        "  0., 1., 1., 1.]),np.array([1., 1., 1., 1., 1., 1., 1., 1., 0., 1., 1., 1., 1., 1., 1., 1., 1., 1., 1., 1., 1., 1., 1., 0.,\n",
        "  0., 0., 0., 0., 0., 0., 0., 0., 0., 0., 0., 0., 0., 0., 0., 0., 0., 0., 0., 0., 1., 0., 0., 0.,\n",
        "  0., 0., 0., 0., 0., 0., 0., 1., 0., 0., 0., 0., 0., 0., 0., 0., 0., 0., 0., 0., 0., 0., 0., 0.,\n",
        "  0., 0., 0., 0., 0., 0., 0., 0., 0., 0., 0., 0., 0., 0., 0., 0., 0., 0., 0., 0., 0., 0., 0., 1.,\n",
        "  0., 0., 0., 0.,])\n",
        "optimized = np.array([1., 1., 1., 1., 1., 1., 1., 1., 1., 1., 1., 1., 1., 1., 1., 1., 1., 1., 1., 1., 1., 1., 1., 1.,\n",
        "  1., 0., 0., 0., 0., 0., 0., 0., 0., 0., 0., 0., 0., 0., 0., 0., 0., 0., 0., 0., 0., 0., 0., 0.,\n",
        "  0., 0., 0., 0., 0., 0., 0., 0., 0., 0., 0., 0., 0., 0., 0., 0., 0., 0., 0., 0., 0., 0., 0., 0.,\n",
        "  0., 0., 0., 0., 0., 0., 0., 0., 0., 0., 0., 0., 0., 0., 0., 0., 0., 0., 0., 0., 0., 0., 0., 0.,\n",
        "  0., 0., 0., 0.,]),np.array([0., 0., 0., 0., 0., 0., 0., 0., 0., 0., 0., 0., 0., 0., 0., 0., 0., 0., 0., 0., 0., 0., 0., 0.,\n",
        "  0., 0., 0., 0., 0., 0., 0., 0., 0., 0., 0., 0., 0., 0., 0., 0., 0., 0., 0., 0., 0., 0., 0., 0.,\n",
        "  0., 0., 0., 0., 0., 0., 0., 0., 0., 0., 0., 0., 0., 0., 0., 0., 0., 0., 0., 0., 0., 0., 0., 0.,\n",
        "  0., 0., 0., 1., 1., 1., 1., 1., 1., 1., 1., 1., 1., 1., 1., 1., 1., 1., 1., 1., 1., 1., 1., 1.,\n",
        "  1., 1., 1., 1.])\n",
        "\n",
        "\n",
        "mean_bias_optimized = sequence_catie_score(optimized, 1000, True)[1]\n",
        "mean_bias_optimized_switched = sequence_catie_score(optimized_switched, 1000, True)[1]\n",
        "plt.legend(('mean','mean','Optimized','Optimized switch'))"
      ],
      "execution_count": null,
      "outputs": [
        {
          "output_type": "execute_result",
          "data": {
            "text/plain": [
              "<matplotlib.legend.Legend at 0x7fe5f0c28390>"
            ]
          },
          "metadata": {},
          "execution_count": 50
        },
        {
          "output_type": "display_data",
          "data": {
            "image/png": "[encoded data removed]",
            "text/plain": [
              "<Figure size 432x288 with 1 Axes>"
            ]
          },
          "metadata": {
            "needs_background": "light"
          }
        },
        {
          "output_type": "display_data",
          "data": {
            "image/png": "[encoded data removed]",
            "text/plain": [
              "<Figure size 432x288 with 1 Axes>"
            ]
          },
          "metadata": {
            "needs_background": "light"
          }
        }
      ]
    },
    {
      "cell_type": "markdown",
      "metadata": {
        "id": "7jNRWhhVYOqE"
      },
      "source": [
        "# Optimize Dynamic mechanism\n"
      ]
    },
    {
      "cell_type": "markdown",
      "metadata": {
        "id": "WK7ECKQYokfv"
      },
      "source": [
        "## Define neural network"
      ]
    },
    {
      "cell_type": "code",
      "metadata": {
        "colab": {
          "base_uri": "https://localhost:8080/"
        },
        "id": "Z14U0ZssaN-I",
        "outputId": "089f7213-268b-4b1d-e3ae-11c73853a3a1"
      },
      "source": [
        "import numpy as np\n",
        "# Network constants\n",
        "L0_SIZE = 9 # Number of input neurons (reflecting current state, don't change)\n",
        "L_MIDDLE_SIZE = 100 # Number of neurons per each of the middle layers (arbitrary, can be changed)\n",
        "N_MIDDLE_LAYERS = 4 # Arbitrary, can be changed\n",
        "L_END_SIZE = 4 # Number of nerurons in the output layer, corresponding to the number of possible decisions (don't change)\n",
        "\n",
        "WEIGHTS_INITAL_VALUE_NORMALZIATION = 1/10 # The greater the number, the greater is the mutation rate of each generation\n",
        "NEURON_TO_ACTION = {0: (0, 0), 1: (1, 0), 2: (0, 1), 3: (1, 1)}\n",
        "INVALID_VALUE = -1 # Invalid / nonexistent\n",
        "NO_PREVIOUS_CHOICE = 0\n",
        "\n",
        "def random_weights(n_in, n_out):\n",
        "  return (np.random.rand(n_in, n_out)-0.5)*WEIGHTS_INITAL_VALUE_NORMALZIATION\n",
        "\n",
        "def init_nn(n_middle_layers=N_MIDDLE_LAYERS, l_middle_size =L_MIDDLE_SIZE):\n",
        "  return (\n",
        "    [random_weights(L0_SIZE, l_middle_size)] +\n",
        "    [random_weights(l_middle_size, l_middle_size) for i in range(n_middle_layers)] +\n",
        "    [random_weights(l_middle_size, L_END_SIZE)]\n",
        "    )\n",
        "\n",
        "def nn_action_selection_for_input(nn, input_activation):\n",
        "  activation = input_activation\n",
        "  for layer in nn:\n",
        "    activation = np.tanh(np.matmul(activation, layer))\n",
        "  maximal_activation_neuron = np.argmax(activation)\n",
        "  return NEURON_TO_ACTION[maximal_activation_neuron]\n",
        "\n",
        "NONE_NUMBER_REPRESENTATION = -1\n",
        "to_num_if_none = lambda x: NONE_NUMBER_REPRESENTATION if x is None else x\n",
        "\n",
        "def get_catie_param(catie_agent):\n",
        "  trend = catie_agent.get_trend()\n",
        "  p_explore = catie_agent.get_p_explore()\n",
        "  last_choice = catie_agent.choices[-1] if len(catie_agent.choices)>0 else NO_PREVIOUS_CHOICE\n",
        "  baised_ca, anti_baised_ca = catie_agent.get_contingent_average()\n",
        "  return np.array([trend, p_explore, last_choice,\n",
        "                   to_num_if_none(baised_ca), to_num_if_none(anti_baised_ca)])\n",
        "\n",
        "def get_input_activation(trial_number=0, allocated_reward_target=0,\n",
        "                    allocated_reward_anti_target=0, catie_agent=CatieAgent()):\n",
        "  intercept = [1]\n",
        "  return np.concatenate((intercept,\n",
        "                         [trial_number, allocated_reward_target, allocated_reward_anti_target],\n",
        "                         get_catie_param(catie_agent)))\n",
        "\n",
        "nn_action_selection_for_input(init_nn(), get_input_activation()) # One test call for action selection"
      ],
      "execution_count": null,
      "outputs": [
        {
          "output_type": "execute_result",
          "data": {
            "text/plain": [
              "(1, 0)"
            ]
          },
          "metadata": {},
          "execution_count": 8
        }
      ]
    },
    {
      "cell_type": "markdown",
      "metadata": {
        "id": "zzjIEBNBveoZ"
      },
      "source": [
        "## Test NN\n",
        "Performance of a given NN in simulation"
      ]
    },
    {
      "cell_type": "markdown",
      "metadata": {
        "id": "L9I2emgj1XFl"
      },
      "source": [
        "Helper functions"
      ]
    },
    {
      "cell_type": "code",
      "metadata": {
        "id": "jUUgV8RD1We1"
      },
      "source": [
        "def constrain_one_side(allocation, r_remain, trial_number):\n",
        "  '''\n",
        "  Enforce exactly 25 rewards per 100 trials.\n",
        "  '''\n",
        "  if r_remain == 0:\n",
        "    return 0\n",
        "  elif (N_TRIALS-(trial_number+1))-r_remain==0: # + 1 because trials are 0..99\n",
        "    return 1\n",
        "  else:\n",
        "    return allocation\n",
        "\n",
        "def constrain_allocation(target_allocation, anti_targe_allocation, r_target_remain, r_anti_target_remain, trial_number):\n",
        "  return (constrain_one_side(target_allocation, r_target_remain, trial_number),\n",
        "  constrain_one_side(anti_targe_allocation, r_anti_target_remain, trial_number))\n",
        ""
      ],
      "execution_count": null,
      "outputs": []
    },
    {
      "cell_type": "markdown",
      "metadata": {
        "id": "F7pZYoKQ2Pio"
      },
      "source": [
        "Calculate network score"
      ]
    },
    {
      "cell_type": "code",
      "metadata": {
        "colab": {
          "base_uri": "https://localhost:8080/"
        },
        "id": "ixPCrK7lvh66",
        "outputId": "1589c091-2422-410e-8429-09f28f0eea3d"
      },
      "source": [
        "N_TRIALS = 100\n",
        "\n",
        "def network_score_single_run(nn):\n",
        "  r_target_remain, r_anti_target_remain = 25, 25\n",
        "  catie_agent = CatieAgent()\n",
        "\n",
        "  for trial_number in range(N_TRIALS):\n",
        "    # Allocate\n",
        "    input_activation = get_input_activation(trial_number, r_target_remain, r_anti_target_remain, catie_agent)\n",
        "    target_allocation, anti_targe_allocation = nn_action_selection_for_input(nn, input_activation)\n",
        "    target_allocation, anti_targe_allocation = constrain_allocation(target_allocation, anti_targe_allocation, r_target_remain, r_anti_target_remain, trial_number)\n",
        "    r_target_remain -= target_allocation\n",
        "    r_anti_target_remain -= anti_targe_allocation\n",
        "\n",
        "    # Apply choice\n",
        "    choice = catie_agent.choose()\n",
        "    outcome = target_allocation if choice==CHOICE_BIASED else anti_targe_allocation\n",
        "    catie_agent.receive_outcome(choice, outcome)\n",
        "  return catie_agent.choices\n",
        "\n",
        "def network_multiple_runs(nn, N_RUNS=10):\n",
        "  biases = []\n",
        "  for i in range(N_RUNS):\n",
        "    choices = network_score_single_run(nn)\n",
        "    biases.append(choices.count(CHOICE_BIASED))\n",
        "  return biases, np.mean(biases)\n",
        "\n",
        "# Test one random network\n",
        "nn = init_nn()\n",
        "network_multiple_runs(nn)"
      ],
      "execution_count": null,
      "outputs": [
        {
          "output_type": "execute_result",
          "data": {
            "text/plain": [
              "([15, 21, 44, 39, 42, 17, 28, 63, 41, 32], 34.2)"
            ]
          },
          "metadata": {},
          "execution_count": 10
        }
      ]
    },
    {
      "cell_type": "markdown",
      "metadata": {
        "id": "IgD97qq7prhI"
      },
      "source": [
        "## Run optimization"
      ]
    },
    {
      "cell_type": "markdown",
      "metadata": {
        "id": "5vgnui5Nt8VQ"
      },
      "source": [
        "Create next generation based on previous best two"
      ]
    },
    {
      "cell_type": "code",
      "metadata": {
        "id": "qxXSVZF5t_30"
      },
      "source": [
        "MUTATION_BASE_RATE = 0.05 # Arbitrary, greater numbers induce greater mutation for each generation\n",
        "\n",
        "def mutate(layer, noise_magnitude=MUTATION_BASE_RATE):\n",
        "  '''\n",
        "  Return the layer with added noise~U(-0.05, 0.05)\n",
        "  '''\n",
        "  noise = (np.random.rand(*np.shape(layer))-0.5)*noise_magnitude\n",
        "  return layer + noise\n",
        "\n",
        "def crossover_and_mutate(nn1, nn2, progress):\n",
        "  '''\n",
        "  Return the outcome of crossing (choosing weights randomly from each nn) and\n",
        "  mutating the outcome (just inserting noise).\n",
        "  '''\n",
        "  output_nn = []\n",
        "  for (layer_i_1, layer_i_2) in zip(nn1, nn2):\n",
        "    # Crossover\n",
        "    indices_from_n1 = np.random.randint(low=0, high=2, size=np.shape(layer_i_1))\n",
        "    crossover_layer_i = np.where(indices_from_n1, layer_i_1, layer_i_2)\n",
        "    # Mutate\n",
        "    mutation_magnitude = MUTATION_BASE_RATE*(1-progress)\n",
        "    crossover_mutated_output_layer_i = mutate(crossover_layer_i, mutation_magnitude)\n",
        "    output_nn.append(crossover_mutated_output_layer_i)\n",
        "  return output_nn\n",
        "\n",
        "\n",
        "def get_next_generation(nn1, nn2, generation_size, progress):\n",
        "  '''\n",
        "  Next generation is made of:\n",
        "    1. One new random set of weights\n",
        "    2. The previous 2 best sets of weights (nn1 and nn2)\n",
        "    3. gneeration_size-3 (currently 10-3=7) sets of weights that are the random\n",
        "      combination of the two previously best networks (nn1 and nn2) on which a\n",
        "      slight random modulation (\"mutation\") is applied.\n",
        "\n",
        "    progress is a variable between 0 and 1 representing what proportion of the\n",
        "    optimization has been completed (0 indicates just started, 1 means ended)\n",
        "  '''\n",
        "  return [init_nn(), nn1, nn2] + [crossover_and_mutate(nn1, nn2, progress) for i in range(generation_size-3)]"
      ],
      "execution_count": null,
      "outputs": []
    },
    {
      "cell_type": "markdown",
      "metadata": {
        "id": "Vz5Fwjpl6ZXr"
      },
      "source": [
        "Compare network performance to static"
      ]
    },
    {
      "cell_type": "code",
      "metadata": {
        "id": "BpHoJAGz5ag4"
      },
      "source": [
        "import scipy\n",
        "from scipy import stats\n",
        "bias_distribution_naive_optimal_static, mean_bias_naive_optimal = sequence_catie_score(optimized, 1000)\n",
        "def compare_naive_architectct_and_dynamic_nn(nn, TEST_REPETITION=100):\n",
        "  bias_distribution_nn, mean_bias_nn = network_multiple_runs(nn, TEST_REPETITION)\n",
        "  return (bias_distribution_nn,\n",
        "        scipy.stats.ttest_ind(bias_distribution_nn, bias_distribution_naive_optimal_static).pvalue)"
      ],
      "execution_count": null,
      "outputs": []
    },
    {
      "cell_type": "markdown",
      "metadata": {
        "id": "bf6JP1h35jxe"
      },
      "source": [
        "Save current training state (or load for saved)"
      ]
    },
    {
      "cell_type": "code",
      "metadata": {
        "id": "9lO72QYP5qe6",
        "colab": {
          "base_uri": "https://localhost:8080/"
        },
        "outputId": "3c054127-0cbc-4a74-dd5c-1dc0321db33b"
      },
      "source": [
        "# Where should the data be saved\n",
        "NETWORK_NAME = '6_layers_network'\n",
        "OUTPUT_PATH = '/content/drive/MyDrive/' + NETWORK_NAME + '.pickle'\n",
        "import pickle\n",
        "from google.colab import drive\n",
        "drive.mount('/content/drive')\n",
        "\n",
        "def save_network(best_nn, iteration, repetitions):\n",
        "  what_to_save = [best_nn, iteration, repetitions]\n",
        "  with open(OUTPUT_PATH, 'wb') as f:\n",
        "    pickle.dump(what_to_save, f)\n",
        "\n",
        "def load_network():\n",
        "  pickleFile = open(OUTPUT_PATH, 'rb')\n",
        "  print(pickle.load(pickleFile)[6])\n",
        "  (best_nn, iteration, repetitions) = pickle.load(pickleFile)\n",
        "  return best_nn, iteration"
      ],
      "execution_count": null,
      "outputs": [
        {
          "output_type": "stream",
          "name": "stdout",
          "text": [
            "Mounted at /content/drive\n"
          ]
        }
      ]
    },
    {
      "cell_type": "markdown",
      "metadata": {
        "id": "HjDka5nk5vND"
      },
      "source": [
        "Run optimization\n",
        "(NADAV - here)"
      ]
    },
    {
      "cell_type": "code",
      "metadata": {
        "id": "yNeiyEC8puck"
      },
      "source": [
        "import heapq\n",
        "DEBUG = False\n",
        "if DEBUG:\n",
        "  MIN_OPTIMIZATION_PER_NN = 2\n",
        "  MAX_OPTIMIZATION_PER_NN = 5\n",
        "  GENERATION_SIZE =  4\n",
        "  NUM_OPTIMIZATION_TRIALS = 4\n",
        "else:\n",
        "  MIN_OPTIMIZATION_PER_NN = 10\n",
        "  MAX_OPTIMIZATION_PER_NN = 500\n",
        "  GENERATION_SIZE =  10\n",
        "  NUM_OPTIMIZATION_TRIALS = 1000\n",
        "\n",
        "OPTIMIZATION_PER_REPETITION = np.linspace(MIN_OPTIMIZATION_PER_NN, MAX_OPTIMIZATION_PER_NN, num=NUM_OPTIMIZATION_TRIALS)\n",
        "\n",
        "def print_network_perofrmance(best_nn, optimizataion_trials):\n",
        "  bias_distribution_nn, p_val = compare_naive_architectct_and_dynamic_nn(best_nn)\n",
        "  bias_distribution_nn_mean = np.mean(bias_distribution_nn)\n",
        "  print('repetitions:', optimizataion_trials,\n",
        "          ', best_nn mean =', round(bias_distribution_nn_mean, 2))\n",
        "\n",
        "def run_optimization(generation, iteration_start):\n",
        "  for i in range(iteration_start, NUM_OPTIMIZATION_TRIALS):\n",
        "    optimizataion_trials = int(OPTIMIZATION_PER_REPETITION[i])\n",
        "    networks_scores = [network_multiple_runs(nn, optimizataion_trials)[1] for nn in generation]\n",
        "    best_two_nn_indices = heapq.nlargest(2, range(len(networks_scores)), key=networks_scores.__getitem__)\n",
        "    best_nn = generation[np.argmax(networks_scores)]\n",
        "    print_network_perofrmance(best_nn, optimizataion_trials)\n",
        "    save_network(best_nn, i, optimizataion_trials)\n",
        "    generation = get_next_generation(generation[best_two_nn_indices[0]],\n",
        "                                     generation[best_two_nn_indices[1]],\n",
        "                                     GENERATION_SIZE,\n",
        "                                     i/NUM_OPTIMIZATION_TRIALS)\n",
        "  return best_nn\n",
        "\n",
        "\n",
        "def continue_optimization():\n",
        "  best_nn, iteration = load_network()\n",
        "  generation = [best_nn] + [init_nn() for i in range(GENERATION_SIZE-1)]\n",
        "  return run_optimization(generation, iteration)\n",
        "\n",
        "def run_optimization_from_scratch():\n",
        "  generation = [init_nn() for i in range(GENERATION_SIZE)]\n",
        "  return run_optimization(generation, 0)\n",
        "\n",
        "best_nn = run_optimization_from_scratch()\n",
        "# best_nn = continue_optimization()"
      ],
      "execution_count": null,
      "outputs": []
    },
    {
      "cell_type": "markdown",
      "metadata": {
        "id": "CECwcC8Gxsas"
      },
      "source": [
        "Plot the performance of trained network biases"
      ]
    },
    {
      "cell_type": "code",
      "metadata": {
        "id": "R5pujNSfxvVT"
      },
      "source": [
        "LOAD_NN = False\n",
        "if LOAD_NN:\n",
        "  import pickle\n",
        "  from google.colab import drive\n",
        "  drive.mount('/content/drive')\n",
        "  pickleFile = open(OUTPUT_PATH, 'rb')\n",
        "  best_nn = pickle.load(pickleFile)\n",
        "TEST_REPETITION = 1000\n",
        "bias_distribution_best_nn, mean_bias_best_nn = network_multiple_runs(best_nn, TEST_REPETITION)\n",
        "bias_distribution_naive_optimal_static, mean_bias_naive_optimal = sequence_catie_score(naive_optimal, TEST_REPETITION)"
      ],
      "execution_count": null,
      "outputs": []
    },
    {
      "cell_type": "code",
      "metadata": {
        "id": "VuIJc3ROyVi5"
      },
      "source": [
        "import scipy\n",
        "from scipy import stats\n",
        "def plot_distribution(dist, color, dist_type):\n",
        "  plt.hist(dist, alpha=0.5, density=True, bins=20, facecolor=color)\n",
        "  plt.axvline(statistics.mean(dist),  linestyle='dashed', linewidth=1, color = color)\n",
        "  min_ylim, max_ylim = plt.ylim()\n",
        "  dist_mean = statistics.mean(dist)\n",
        "  print(dist_type, ':', dist_mean)\n",
        "  plt.text(statistics.mean(dist)*1.1, max_ylim*0.9, dist_type + ' mean: {:.2f}'.format(dist_mean))\n",
        "\n",
        "plt.figure()\n",
        "plot_distribution(bias_distribution_best_nn, [x/255 for x in (102, 196, 197)], 'Dynamic')\n",
        "plot_distribution(bias_distribution_naive_optimal_static,[x/255 for x in (238, 50, 51)], 'Static')\n",
        "\n",
        "plt.ylabel('Probability')\n",
        "plt.xlabel('Bias')\n",
        "plt.legend((None, None, 'Dynamic', 'Static'))\n",
        "print(scipy.stats.ttest_ind(bias_distribution_best_nn, bias_distribution_naive_optimal_static))\n"
      ],
      "execution_count": null,
      "outputs": []
    }
  ]
}