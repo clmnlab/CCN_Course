{
 "cells": [
  {
   "cell_type": "code",
   "execution_count": 91,
   "id": "e8505da2",
   "metadata": {},
   "outputs": [],
   "source": [
    "# reload meta_env_agent to update changes\n",
    "import sys\n",
    "from tqdm import tqdm\n",
    "import numpy as np\n",
    "import importlib\n",
    "importlib.reload(sys.modules['meta_env_agent'])\n",
    "from meta_env_agent import A2CAgent, DynamicBandit,  BanditEnv, Config, collect_episode_data, fit_pca_on_task_difference\n",
    "from sklearn.decomposition import PCA\n",
    "\n"
   ]
  },
  {
   "cell_type": "code",
   "execution_count": 92,
   "id": "89537095",
   "metadata": {},
   "outputs": [],
   "source": [
    "config = Config()\n",
    "\n",
    "a2c_agent = A2CAgent(config.INPUT_SIZE, config.HIDDEN_SIZE, config.OUTPUT_SIZE,\n",
    "                        lr=config.LEARNING_RATE,\n",
    "                        gamma=config.GAMMA,\n",
    "                        value_loss_coef=config.VALUE_LOSS_COEF,\n",
    "                        entropy_coef=config.ENTROPY_COEF)"
   ]
  },
  {
   "cell_type": "code",
   "execution_count": 93,
   "id": "e9738507",
   "metadata": {},
   "outputs": [
    {
     "name": "stderr",
     "output_type": "stream",
     "text": [
      "/Users/sskim/Documents/Research/Study/CCN_Course/meta_env_agent.py:279: FutureWarning: You are using `torch.load` with `weights_only=False` (the current default value), which uses the default pickle module implicitly. It is possible to construct malicious pickle data which will execute arbitrary code during unpickling (See https://github.com/pytorch/pytorch/blob/main/SECURITY.md#untrusted-models for more details). In a future release, the default value for `weights_only` will be flipped to `True`. This limits the functions that could be executed during unpickling. Arbitrary objects will no longer be allowed to be loaded via this mode unless they are explicitly allowlisted by the user via `torch.serialization.add_safe_globals`. We recommend you start setting `weights_only=True` for any use case where you don't have full control of the loaded file. Please open an issue on GitHub for any issues related to this experimental feature.\n",
      "  \"\"\"\n"
     ]
    },
    {
     "data": {
      "text/plain": [
       "A2CAgent(\n",
       "  (lstm_cell): LSTMCell(2, 32)\n",
       "  (action_head): Linear(in_features=32, out_features=2, bias=True)\n",
       "  (value_head): Linear(in_features=32, out_features=1, bias=True)\n",
       ")"
      ]
     },
     "execution_count": 93,
     "metadata": {},
     "output_type": "execute_result"
    }
   ],
   "source": [
    "a2c_agent.load(\"a2c_agent_10000epi.pth\")  # 모델 로드\n",
    "a2c_agent.eval()  # 평가 모드로 설정\n"
   ]
  },
  {
   "cell_type": "code",
   "execution_count": 94,
   "id": "b857f19a",
   "metadata": {},
   "outputs": [],
   "source": [
    "\n",
    "env = DynamicBandit(training=False)\n"
   ]
  },
  {
   "cell_type": "code",
   "execution_count": null,
   "id": "4bdc0254",
   "metadata": {},
   "outputs": [
    {
     "name": "stdout",
     "output_type": "stream",
     "text": [
      "\n",
      "500개의 테스트 에피소드에서 데이터 수집을 시작합니다...\n"
     ]
    },
    {
     "name": "stderr",
     "output_type": "stream",
     "text": [
      "Data Collection:   1%|          | 3/500 [00:00<00:21, 23.37it/s]"
     ]
    },
    {
     "name": "stdout",
     "output_type": "stream",
     "text": [
      "[0.05, 0.95]\n",
      "[0.1, 0.9]\n",
      "[0.15, 0.85]\n",
      "[0.2, 0.8]\n",
      "[0.25, 0.75]\n"
     ]
    },
    {
     "name": "stderr",
     "output_type": "stream",
     "text": [
      "Data Collection:   2%|▏         | 9/500 [00:00<00:20, 24.37it/s]"
     ]
    },
    {
     "name": "stdout",
     "output_type": "stream",
     "text": [
      "[0.3, 0.7]\n",
      "[0.35, 0.65]\n",
      "[0.4, 0.6]\n",
      "[0.45, 0.55]\n",
      "[0.5, 0.5]\n"
     ]
    },
    {
     "name": "stderr",
     "output_type": "stream",
     "text": [
      "Data Collection:   2%|▏         | 12/500 [00:00<00:20, 23.60it/s]"
     ]
    },
    {
     "name": "stdout",
     "output_type": "stream",
     "text": [
      "[0.55, 0.45]\n",
      "[0.6, 0.4]\n",
      "[0.65, 0.35]\n",
      "[0.7, 0.3]\n",
      "[0.75, 0.25]\n"
     ]
    },
    {
     "name": "stderr",
     "output_type": "stream",
     "text": [
      "Data Collection:   4%|▎         | 18/500 [00:00<00:20, 23.93it/s]"
     ]
    },
    {
     "name": "stdout",
     "output_type": "stream",
     "text": [
      "[0.8, 0.2]\n",
      "[0.85, 0.15]\n",
      "[0.9, 0.1]\n",
      "[0.95, 0.05]\n",
      "[0.05, 0.95]\n"
     ]
    },
    {
     "name": "stderr",
     "output_type": "stream",
     "text": [
      "Data Collection:   5%|▍         | 24/500 [00:00<00:19, 24.47it/s]"
     ]
    },
    {
     "name": "stdout",
     "output_type": "stream",
     "text": [
      "[0.1, 0.9]\n",
      "[0.15, 0.85]\n",
      "[0.2, 0.8]\n",
      "[0.25, 0.75]\n",
      "[0.3, 0.7]\n"
     ]
    },
    {
     "name": "stderr",
     "output_type": "stream",
     "text": [
      "Data Collection:   5%|▌         | 27/500 [00:01<00:19, 24.50it/s]"
     ]
    },
    {
     "name": "stdout",
     "output_type": "stream",
     "text": [
      "[0.35, 0.65]\n",
      "[0.4, 0.6]\n",
      "[0.45, 0.55]\n",
      "[0.5, 0.5]\n",
      "[0.55, 0.45]\n"
     ]
    },
    {
     "name": "stderr",
     "output_type": "stream",
     "text": [
      "Data Collection:   7%|▋         | 33/500 [00:01<00:18, 24.69it/s]"
     ]
    },
    {
     "name": "stdout",
     "output_type": "stream",
     "text": [
      "[0.6, 0.4]\n",
      "[0.65, 0.35]\n",
      "[0.7, 0.3]\n",
      "[0.75, 0.25]\n",
      "[0.8, 0.2]\n",
      "[0.85, 0.15]\n"
     ]
    },
    {
     "name": "stderr",
     "output_type": "stream",
     "text": [
      "Data Collection:   8%|▊         | 39/500 [00:01<00:18, 25.02it/s]"
     ]
    },
    {
     "name": "stdout",
     "output_type": "stream",
     "text": [
      "[0.9, 0.1]\n",
      "[0.95, 0.05]\n",
      "[0.05, 0.95]\n",
      "[0.1, 0.9]\n",
      "[0.15, 0.85]\n",
      "[0.2, 0.8]\n"
     ]
    },
    {
     "name": "stderr",
     "output_type": "stream",
     "text": [
      "Data Collection:   9%|▉         | 45/500 [00:01<00:18, 25.12it/s]"
     ]
    },
    {
     "name": "stdout",
     "output_type": "stream",
     "text": [
      "[0.25, 0.75]\n",
      "[0.3, 0.7]\n",
      "[0.35, 0.65]\n",
      "[0.4, 0.6]\n",
      "[0.45, 0.55]\n",
      "[0.5, 0.5]\n"
     ]
    },
    {
     "name": "stderr",
     "output_type": "stream",
     "text": [
      "Data Collection:  10%|█         | 51/500 [00:02<00:18, 24.85it/s]"
     ]
    },
    {
     "name": "stdout",
     "output_type": "stream",
     "text": [
      "[0.55, 0.45]\n",
      "[0.6, 0.4]\n",
      "[0.65, 0.35]\n",
      "[0.7, 0.3]\n",
      "[0.75, 0.25]\n"
     ]
    },
    {
     "name": "stderr",
     "output_type": "stream",
     "text": [
      "Data Collection:  11%|█▏        | 57/500 [00:02<00:18, 24.53it/s]"
     ]
    },
    {
     "name": "stdout",
     "output_type": "stream",
     "text": [
      "[0.8, 0.2]\n",
      "[0.85, 0.15]\n",
      "[0.9, 0.1]\n",
      "[0.95, 0.05]\n",
      "[0.05, 0.95]\n"
     ]
    },
    {
     "name": "stderr",
     "output_type": "stream",
     "text": [
      "Data Collection:  12%|█▏        | 60/500 [00:02<00:17, 24.71it/s]"
     ]
    },
    {
     "name": "stdout",
     "output_type": "stream",
     "text": [
      "[0.1, 0.9]\n",
      "[0.15, 0.85]\n",
      "[0.2, 0.8]\n",
      "[0.25, 0.75]\n",
      "[0.3, 0.7]\n"
     ]
    },
    {
     "name": "stderr",
     "output_type": "stream",
     "text": [
      "Data Collection:  13%|█▎        | 66/500 [00:02<00:17, 24.41it/s]"
     ]
    },
    {
     "name": "stdout",
     "output_type": "stream",
     "text": [
      "[0.35, 0.65]\n",
      "[0.4, 0.6]\n",
      "[0.45, 0.55]\n",
      "[0.5, 0.5]\n",
      "[0.55, 0.45]\n",
      "[0.6, 0.4]\n"
     ]
    },
    {
     "name": "stderr",
     "output_type": "stream",
     "text": [
      "Data Collection:  14%|█▍        | 72/500 [00:02<00:17, 24.69it/s]"
     ]
    },
    {
     "name": "stdout",
     "output_type": "stream",
     "text": [
      "[0.65, 0.35]\n",
      "[0.7, 0.3]\n",
      "[0.75, 0.25]\n",
      "[0.8, 0.2]\n",
      "[0.85, 0.15]\n",
      "[0.9, 0.1]\n"
     ]
    },
    {
     "name": "stderr",
     "output_type": "stream",
     "text": [
      "Data Collection:  16%|█▌        | 78/500 [00:03<00:16, 24.93it/s]"
     ]
    },
    {
     "name": "stdout",
     "output_type": "stream",
     "text": [
      "[0.95, 0.05]\n",
      "[0.05, 0.95]\n",
      "[0.1, 0.9]\n",
      "[0.15, 0.85]\n",
      "[0.2, 0.8]\n"
     ]
    },
    {
     "name": "stderr",
     "output_type": "stream",
     "text": [
      "Data Collection:  17%|█▋        | 84/500 [00:03<00:16, 24.59it/s]"
     ]
    },
    {
     "name": "stdout",
     "output_type": "stream",
     "text": [
      "[0.25, 0.75]\n",
      "[0.3, 0.7]\n",
      "[0.35, 0.65]\n",
      "[0.4, 0.6]\n",
      "[0.45, 0.55]\n"
     ]
    },
    {
     "name": "stderr",
     "output_type": "stream",
     "text": [
      "Data Collection:  18%|█▊        | 90/500 [00:03<00:16, 24.89it/s]"
     ]
    },
    {
     "name": "stdout",
     "output_type": "stream",
     "text": [
      "[0.5, 0.5]\n",
      "[0.55, 0.45]\n",
      "[0.6, 0.4]\n",
      "[0.65, 0.35]\n",
      "[0.7, 0.3]\n",
      "[0.75, 0.25]\n"
     ]
    },
    {
     "name": "stderr",
     "output_type": "stream",
     "text": [
      "Data Collection:  19%|█▊        | 93/500 [00:03<00:16, 24.77it/s]"
     ]
    },
    {
     "name": "stdout",
     "output_type": "stream",
     "text": [
      "[0.8, 0.2]\n",
      "[0.85, 0.15]\n",
      "[0.9, 0.1]\n",
      "[0.95, 0.05]\n",
      "[0.05, 0.95]\n"
     ]
    },
    {
     "name": "stderr",
     "output_type": "stream",
     "text": [
      "Data Collection:  20%|█▉        | 99/500 [00:04<00:16, 24.87it/s]"
     ]
    },
    {
     "name": "stdout",
     "output_type": "stream",
     "text": [
      "[0.1, 0.9]\n",
      "[0.15, 0.85]\n",
      "[0.2, 0.8]\n",
      "[0.25, 0.75]\n",
      "[0.3, 0.7]\n",
      "[0.35, 0.65]\n"
     ]
    },
    {
     "name": "stderr",
     "output_type": "stream",
     "text": [
      "Data Collection:  21%|██        | 105/500 [00:04<00:15, 24.85it/s]"
     ]
    },
    {
     "name": "stdout",
     "output_type": "stream",
     "text": [
      "[0.4, 0.6]\n",
      "[0.45, 0.55]\n",
      "[0.5, 0.5]\n",
      "[0.55, 0.45]\n",
      "[0.6, 0.4]\n",
      "[0.65, 0.35]\n"
     ]
    },
    {
     "name": "stderr",
     "output_type": "stream",
     "text": [
      "Data Collection:  22%|██▏       | 111/500 [00:04<00:15, 24.90it/s]"
     ]
    },
    {
     "name": "stdout",
     "output_type": "stream",
     "text": [
      "[0.7, 0.3]\n",
      "[0.75, 0.25]\n",
      "[0.8, 0.2]\n",
      "[0.85, 0.15]\n",
      "[0.9, 0.1]\n",
      "[0.95, 0.05]\n"
     ]
    },
    {
     "name": "stderr",
     "output_type": "stream",
     "text": [
      "Data Collection:  23%|██▎       | 117/500 [00:04<00:15, 24.22it/s]"
     ]
    },
    {
     "name": "stdout",
     "output_type": "stream",
     "text": [
      "[0.05, 0.95]\n",
      "[0.1, 0.9]\n",
      "[0.15, 0.85]\n",
      "[0.2, 0.8]\n",
      "[0.25, 0.75]\n"
     ]
    },
    {
     "name": "stderr",
     "output_type": "stream",
     "text": [
      "Data Collection:  25%|██▍       | 123/500 [00:05<00:15, 24.53it/s]"
     ]
    },
    {
     "name": "stdout",
     "output_type": "stream",
     "text": [
      "[0.3, 0.7]\n",
      "[0.35, 0.65]\n",
      "[0.4, 0.6]\n",
      "[0.45, 0.55]\n",
      "[0.5, 0.5]\n"
     ]
    },
    {
     "name": "stderr",
     "output_type": "stream",
     "text": [
      "Data Collection:  26%|██▌       | 129/500 [00:05<00:14, 24.84it/s]"
     ]
    },
    {
     "name": "stdout",
     "output_type": "stream",
     "text": [
      "[0.55, 0.45]\n",
      "[0.6, 0.4]\n",
      "[0.65, 0.35]\n",
      "[0.7, 0.3]\n",
      "[0.75, 0.25]\n",
      "[0.8, 0.2]\n"
     ]
    },
    {
     "name": "stderr",
     "output_type": "stream",
     "text": [
      "Data Collection:  27%|██▋       | 135/500 [00:05<00:14, 24.92it/s]"
     ]
    },
    {
     "name": "stdout",
     "output_type": "stream",
     "text": [
      "[0.85, 0.15]\n",
      "[0.9, 0.1]\n",
      "[0.95, 0.05]\n",
      "[0.05, 0.95]\n",
      "[0.1, 0.9]\n",
      "[0.15, 0.85]\n"
     ]
    },
    {
     "name": "stderr",
     "output_type": "stream",
     "text": [
      "Data Collection:  28%|██▊       | 141/500 [00:05<00:14, 25.23it/s]"
     ]
    },
    {
     "name": "stdout",
     "output_type": "stream",
     "text": [
      "[0.2, 0.8]\n",
      "[0.25, 0.75]\n",
      "[0.3, 0.7]\n",
      "[0.35, 0.65]\n",
      "[0.4, 0.6]\n",
      "[0.45, 0.55]\n"
     ]
    },
    {
     "name": "stderr",
     "output_type": "stream",
     "text": [
      "Data Collection:  29%|██▉       | 147/500 [00:05<00:13, 25.29it/s]"
     ]
    },
    {
     "name": "stdout",
     "output_type": "stream",
     "text": [
      "[0.5, 0.5]\n",
      "[0.55, 0.45]\n",
      "[0.6, 0.4]\n",
      "[0.65, 0.35]\n",
      "[0.7, 0.3]\n",
      "[0.75, 0.25]\n"
     ]
    },
    {
     "name": "stderr",
     "output_type": "stream",
     "text": [
      "Data Collection:  31%|███       | 153/500 [00:06<00:13, 25.10it/s]"
     ]
    },
    {
     "name": "stdout",
     "output_type": "stream",
     "text": [
      "[0.8, 0.2]\n",
      "[0.85, 0.15]\n",
      "[0.9, 0.1]\n",
      "[0.95, 0.05]\n",
      "[0.05, 0.95]\n",
      "[0.1, 0.9]\n"
     ]
    },
    {
     "name": "stderr",
     "output_type": "stream",
     "text": [
      "Data Collection:  31%|███       | 156/500 [00:06<00:13, 24.67it/s]"
     ]
    },
    {
     "name": "stdout",
     "output_type": "stream",
     "text": [
      "[0.15, 0.85]\n",
      "[0.2, 0.8]\n",
      "[0.25, 0.75]\n",
      "[0.3, 0.7]\n",
      "[0.35, 0.65]\n"
     ]
    },
    {
     "name": "stderr",
     "output_type": "stream",
     "text": [
      "Data Collection:  32%|███▏      | 162/500 [00:06<00:13, 24.86it/s]"
     ]
    },
    {
     "name": "stdout",
     "output_type": "stream",
     "text": [
      "[0.4, 0.6]\n",
      "[0.45, 0.55]\n",
      "[0.5, 0.5]\n",
      "[0.55, 0.45]\n",
      "[0.6, 0.4]\n",
      "[0.65, 0.35]\n"
     ]
    },
    {
     "name": "stderr",
     "output_type": "stream",
     "text": [
      "Data Collection:  34%|███▎      | 168/500 [00:06<00:13, 24.97it/s]"
     ]
    },
    {
     "name": "stdout",
     "output_type": "stream",
     "text": [
      "[0.7, 0.3]\n",
      "[0.75, 0.25]\n",
      "[0.8, 0.2]\n",
      "[0.85, 0.15]\n",
      "[0.9, 0.1]\n",
      "[0.95, 0.05]\n"
     ]
    },
    {
     "name": "stderr",
     "output_type": "stream",
     "text": [
      "Data Collection:  35%|███▍      | 174/500 [00:07<00:13, 24.46it/s]"
     ]
    },
    {
     "name": "stdout",
     "output_type": "stream",
     "text": [
      "[0.05, 0.95]\n",
      "[0.1, 0.9]\n",
      "[0.15, 0.85]\n",
      "[0.2, 0.8]\n",
      "[0.25, 0.75]\n"
     ]
    },
    {
     "name": "stderr",
     "output_type": "stream",
     "text": [
      "Data Collection:  36%|███▌      | 180/500 [00:07<00:12, 24.69it/s]"
     ]
    },
    {
     "name": "stdout",
     "output_type": "stream",
     "text": [
      "[0.3, 0.7]\n",
      "[0.35, 0.65]\n",
      "[0.4, 0.6]\n",
      "[0.45, 0.55]\n",
      "[0.5, 0.5]\n"
     ]
    },
    {
     "name": "stderr",
     "output_type": "stream",
     "text": [
      "Data Collection:  37%|███▋      | 186/500 [00:07<00:12, 24.93it/s]"
     ]
    },
    {
     "name": "stdout",
     "output_type": "stream",
     "text": [
      "[0.55, 0.45]\n",
      "[0.6, 0.4]\n",
      "[0.65, 0.35]\n",
      "[0.7, 0.3]\n",
      "[0.75, 0.25]\n",
      "[0.8, 0.2]\n"
     ]
    },
    {
     "name": "stderr",
     "output_type": "stream",
     "text": [
      "Data Collection:  38%|███▊      | 192/500 [00:07<00:12, 25.18it/s]"
     ]
    },
    {
     "name": "stdout",
     "output_type": "stream",
     "text": [
      "[0.85, 0.15]\n",
      "[0.9, 0.1]\n",
      "[0.95, 0.05]\n",
      "[0.05, 0.95]\n",
      "[0.1, 0.9]\n",
      "[0.15, 0.85]\n"
     ]
    },
    {
     "name": "stderr",
     "output_type": "stream",
     "text": [
      "Data Collection:  39%|███▉      | 195/500 [00:07<00:12, 24.67it/s]"
     ]
    },
    {
     "name": "stdout",
     "output_type": "stream",
     "text": [
      "[0.2, 0.8]\n",
      "[0.25, 0.75]\n",
      "[0.3, 0.7]\n",
      "[0.35, 0.65]\n",
      "[0.4, 0.6]\n"
     ]
    },
    {
     "name": "stderr",
     "output_type": "stream",
     "text": [
      "Data Collection:  40%|████      | 201/500 [00:08<00:12, 24.54it/s]"
     ]
    },
    {
     "name": "stdout",
     "output_type": "stream",
     "text": [
      "[0.45, 0.55]\n",
      "[0.5, 0.5]\n",
      "[0.55, 0.45]\n",
      "[0.6, 0.4]\n",
      "[0.65, 0.35]\n",
      "[0.7, 0.3]\n"
     ]
    },
    {
     "name": "stderr",
     "output_type": "stream",
     "text": [
      "Data Collection:  41%|████▏     | 207/500 [00:08<00:11, 24.82it/s]"
     ]
    },
    {
     "name": "stdout",
     "output_type": "stream",
     "text": [
      "[0.75, 0.25]\n",
      "[0.8, 0.2]\n",
      "[0.85, 0.15]\n",
      "[0.9, 0.1]\n",
      "[0.95, 0.05]\n"
     ]
    },
    {
     "name": "stderr",
     "output_type": "stream",
     "text": [
      "Data Collection:  43%|████▎     | 213/500 [00:08<00:11, 24.57it/s]"
     ]
    },
    {
     "name": "stdout",
     "output_type": "stream",
     "text": [
      "[0.05, 0.95]\n",
      "[0.1, 0.9]\n",
      "[0.15, 0.85]\n",
      "[0.2, 0.8]\n",
      "[0.25, 0.75]\n"
     ]
    },
    {
     "name": "stderr",
     "output_type": "stream",
     "text": [
      "Data Collection:  43%|████▎     | 216/500 [00:08<00:11, 24.42it/s]"
     ]
    },
    {
     "name": "stdout",
     "output_type": "stream",
     "text": [
      "[0.3, 0.7]\n",
      "[0.35, 0.65]\n",
      "[0.4, 0.6]\n",
      "[0.45, 0.55]\n",
      "[0.5, 0.5]\n"
     ]
    },
    {
     "name": "stderr",
     "output_type": "stream",
     "text": [
      "Data Collection:  44%|████▍     | 222/500 [00:08<00:11, 24.68it/s]"
     ]
    },
    {
     "name": "stdout",
     "output_type": "stream",
     "text": [
      "[0.55, 0.45]\n",
      "[0.6, 0.4]\n",
      "[0.65, 0.35]\n",
      "[0.7, 0.3]\n",
      "[0.75, 0.25]\n",
      "[0.8, 0.2]\n"
     ]
    },
    {
     "name": "stderr",
     "output_type": "stream",
     "text": [
      "Data Collection:  46%|████▌     | 228/500 [00:09<00:11, 24.12it/s]"
     ]
    },
    {
     "name": "stdout",
     "output_type": "stream",
     "text": [
      "[0.85, 0.15]\n",
      "[0.9, 0.1]\n",
      "[0.95, 0.05]\n",
      "[0.05, 0.95]\n",
      "[0.1, 0.9]\n"
     ]
    },
    {
     "name": "stderr",
     "output_type": "stream",
     "text": [
      "Data Collection:  47%|████▋     | 234/500 [00:09<00:10, 24.57it/s]"
     ]
    },
    {
     "name": "stdout",
     "output_type": "stream",
     "text": [
      "[0.15, 0.85]\n",
      "[0.2, 0.8]\n",
      "[0.25, 0.75]\n",
      "[0.3, 0.7]\n",
      "[0.35, 0.65]\n"
     ]
    },
    {
     "name": "stderr",
     "output_type": "stream",
     "text": [
      "Data Collection:  48%|████▊     | 240/500 [00:09<00:10, 24.86it/s]"
     ]
    },
    {
     "name": "stdout",
     "output_type": "stream",
     "text": [
      "[0.4, 0.6]\n",
      "[0.45, 0.55]\n",
      "[0.5, 0.5]\n",
      "[0.55, 0.45]\n",
      "[0.6, 0.4]\n",
      "[0.65, 0.35]\n"
     ]
    },
    {
     "name": "stderr",
     "output_type": "stream",
     "text": [
      "Data Collection:  49%|████▉     | 246/500 [00:09<00:10, 25.14it/s]"
     ]
    },
    {
     "name": "stdout",
     "output_type": "stream",
     "text": [
      "[0.7, 0.3]\n",
      "[0.75, 0.25]\n",
      "[0.8, 0.2]\n",
      "[0.85, 0.15]\n",
      "[0.9, 0.1]\n",
      "[0.95, 0.05]\n"
     ]
    },
    {
     "name": "stderr",
     "output_type": "stream",
     "text": [
      "Data Collection:  50%|█████     | 252/500 [00:10<00:09, 25.20it/s]"
     ]
    },
    {
     "name": "stdout",
     "output_type": "stream",
     "text": [
      "[0.05, 0.95]\n",
      "[0.1, 0.9]\n",
      "[0.15, 0.85]\n",
      "[0.2, 0.8]\n",
      "[0.25, 0.75]\n",
      "[0.3, 0.7]\n"
     ]
    },
    {
     "name": "stderr",
     "output_type": "stream",
     "text": [
      "Data Collection:  52%|█████▏    | 258/500 [00:10<00:09, 25.31it/s]"
     ]
    },
    {
     "name": "stdout",
     "output_type": "stream",
     "text": [
      "[0.35, 0.65]\n",
      "[0.4, 0.6]\n",
      "[0.45, 0.55]\n",
      "[0.5, 0.5]\n",
      "[0.55, 0.45]\n",
      "[0.6, 0.4]\n"
     ]
    },
    {
     "name": "stderr",
     "output_type": "stream",
     "text": [
      "Data Collection:  53%|█████▎    | 264/500 [00:10<00:09, 25.10it/s]"
     ]
    },
    {
     "name": "stdout",
     "output_type": "stream",
     "text": [
      "[0.65, 0.35]\n",
      "[0.7, 0.3]\n",
      "[0.75, 0.25]\n",
      "[0.8, 0.2]\n",
      "[0.85, 0.15]\n",
      "[0.9, 0.1]\n"
     ]
    },
    {
     "name": "stderr",
     "output_type": "stream",
     "text": [
      "Data Collection:  54%|█████▍    | 270/500 [00:10<00:09, 25.18it/s]"
     ]
    },
    {
     "name": "stdout",
     "output_type": "stream",
     "text": [
      "[0.95, 0.05]\n",
      "[0.05, 0.95]\n",
      "[0.1, 0.9]\n",
      "[0.15, 0.85]\n",
      "[0.2, 0.8]\n",
      "[0.25, 0.75]\n"
     ]
    },
    {
     "name": "stderr",
     "output_type": "stream",
     "text": [
      "Data Collection:  55%|█████▌    | 276/500 [00:11<00:08, 25.20it/s]"
     ]
    },
    {
     "name": "stdout",
     "output_type": "stream",
     "text": [
      "[0.3, 0.7]\n",
      "[0.35, 0.65]\n",
      "[0.4, 0.6]\n",
      "[0.45, 0.55]\n",
      "[0.5, 0.5]\n",
      "[0.55, 0.45]\n"
     ]
    },
    {
     "name": "stderr",
     "output_type": "stream",
     "text": [
      "Data Collection:  56%|█████▋    | 282/500 [00:11<00:08, 25.11it/s]"
     ]
    },
    {
     "name": "stdout",
     "output_type": "stream",
     "text": [
      "[0.6, 0.4]\n",
      "[0.65, 0.35]\n",
      "[0.7, 0.3]\n",
      "[0.75, 0.25]\n",
      "[0.8, 0.2]\n",
      "[0.85, 0.15]\n"
     ]
    },
    {
     "name": "stderr",
     "output_type": "stream",
     "text": [
      "Data Collection:  57%|█████▋    | 285/500 [00:11<00:08, 24.23it/s]"
     ]
    },
    {
     "name": "stdout",
     "output_type": "stream",
     "text": [
      "[0.9, 0.1]\n",
      "[0.95, 0.05]\n",
      "[0.05, 0.95]\n",
      "[0.1, 0.9]\n",
      "[0.15, 0.85]\n"
     ]
    },
    {
     "name": "stderr",
     "output_type": "stream",
     "text": [
      "Data Collection:  58%|█████▊    | 291/500 [00:11<00:08, 24.56it/s]"
     ]
    },
    {
     "name": "stdout",
     "output_type": "stream",
     "text": [
      "[0.2, 0.8]\n",
      "[0.25, 0.75]\n",
      "[0.3, 0.7]\n",
      "[0.35, 0.65]\n",
      "[0.4, 0.6]\n"
     ]
    },
    {
     "name": "stderr",
     "output_type": "stream",
     "text": [
      "Data Collection:  59%|█████▉    | 297/500 [00:12<00:08, 24.50it/s]"
     ]
    },
    {
     "name": "stdout",
     "output_type": "stream",
     "text": [
      "[0.45, 0.55]\n",
      "[0.5, 0.5]\n",
      "[0.55, 0.45]\n",
      "[0.6, 0.4]\n",
      "[0.65, 0.35]\n"
     ]
    },
    {
     "name": "stderr",
     "output_type": "stream",
     "text": [
      "Data Collection:  61%|██████    | 303/500 [00:12<00:07, 24.70it/s]"
     ]
    },
    {
     "name": "stdout",
     "output_type": "stream",
     "text": [
      "[0.7, 0.3]\n",
      "[0.75, 0.25]\n",
      "[0.8, 0.2]\n",
      "[0.85, 0.15]\n",
      "[0.9, 0.1]\n",
      "[0.95, 0.05]\n"
     ]
    },
    {
     "name": "stderr",
     "output_type": "stream",
     "text": [
      "Data Collection:  61%|██████    | 306/500 [00:12<00:07, 24.80it/s]"
     ]
    },
    {
     "name": "stdout",
     "output_type": "stream",
     "text": [
      "[0.05, 0.95]\n",
      "[0.1, 0.9]\n",
      "[0.15, 0.85]\n",
      "[0.2, 0.8]\n",
      "[0.25, 0.75]\n"
     ]
    },
    {
     "name": "stderr",
     "output_type": "stream",
     "text": [
      "Data Collection:  62%|██████▏   | 312/500 [00:12<00:07, 24.69it/s]"
     ]
    },
    {
     "name": "stdout",
     "output_type": "stream",
     "text": [
      "[0.3, 0.7]\n",
      "[0.35, 0.65]\n",
      "[0.4, 0.6]\n",
      "[0.45, 0.55]\n",
      "[0.5, 0.5]\n"
     ]
    },
    {
     "name": "stderr",
     "output_type": "stream",
     "text": [
      "Data Collection:  64%|██████▎   | 318/500 [00:12<00:07, 24.25it/s]"
     ]
    },
    {
     "name": "stdout",
     "output_type": "stream",
     "text": [
      "[0.55, 0.45]\n",
      "[0.6, 0.4]\n",
      "[0.65, 0.35]\n",
      "[0.7, 0.3]\n",
      "[0.75, 0.25]\n"
     ]
    },
    {
     "name": "stderr",
     "output_type": "stream",
     "text": [
      "Data Collection:  64%|██████▍   | 321/500 [00:12<00:07, 24.06it/s]"
     ]
    },
    {
     "name": "stdout",
     "output_type": "stream",
     "text": [
      "[0.8, 0.2]\n",
      "[0.85, 0.15]\n",
      "[0.9, 0.1]\n",
      "[0.95, 0.05]\n",
      "[0.05, 0.95]\n"
     ]
    },
    {
     "name": "stderr",
     "output_type": "stream",
     "text": [
      "Data Collection:  65%|██████▌   | 327/500 [00:13<00:07, 23.93it/s]"
     ]
    },
    {
     "name": "stdout",
     "output_type": "stream",
     "text": [
      "[0.1, 0.9]\n",
      "[0.15, 0.85]\n",
      "[0.2, 0.8]\n",
      "[0.25, 0.75]\n",
      "[0.3, 0.7]\n"
     ]
    },
    {
     "name": "stderr",
     "output_type": "stream",
     "text": [
      "Data Collection:  67%|██████▋   | 333/500 [00:13<00:07, 23.82it/s]"
     ]
    },
    {
     "name": "stdout",
     "output_type": "stream",
     "text": [
      "[0.35, 0.65]\n",
      "[0.4, 0.6]\n",
      "[0.45, 0.55]\n",
      "[0.5, 0.5]\n",
      "[0.55, 0.45]\n"
     ]
    },
    {
     "name": "stderr",
     "output_type": "stream",
     "text": [
      "Data Collection:  68%|██████▊   | 339/500 [00:13<00:06, 24.38it/s]"
     ]
    },
    {
     "name": "stdout",
     "output_type": "stream",
     "text": [
      "[0.6, 0.4]\n",
      "[0.65, 0.35]\n",
      "[0.7, 0.3]\n",
      "[0.75, 0.25]\n",
      "[0.8, 0.2]\n",
      "[0.85, 0.15]\n"
     ]
    },
    {
     "name": "stderr",
     "output_type": "stream",
     "text": [
      "Data Collection:  69%|██████▉   | 345/500 [00:13<00:06, 24.78it/s]"
     ]
    },
    {
     "name": "stdout",
     "output_type": "stream",
     "text": [
      "[0.9, 0.1]\n",
      "[0.95, 0.05]\n",
      "[0.05, 0.95]\n",
      "[0.1, 0.9]\n",
      "[0.15, 0.85]\n",
      "[0.2, 0.8]\n"
     ]
    },
    {
     "name": "stderr",
     "output_type": "stream",
     "text": [
      "Data Collection:  70%|███████   | 351/500 [00:14<00:05, 24.89it/s]"
     ]
    },
    {
     "name": "stdout",
     "output_type": "stream",
     "text": [
      "[0.25, 0.75]\n",
      "[0.3, 0.7]\n",
      "[0.35, 0.65]\n",
      "[0.4, 0.6]\n",
      "[0.45, 0.55]\n",
      "[0.5, 0.5]\n"
     ]
    },
    {
     "name": "stderr",
     "output_type": "stream",
     "text": [
      "Data Collection:  71%|███████▏  | 357/500 [00:14<00:05, 24.99it/s]"
     ]
    },
    {
     "name": "stdout",
     "output_type": "stream",
     "text": [
      "[0.55, 0.45]\n",
      "[0.6, 0.4]\n",
      "[0.65, 0.35]\n",
      "[0.7, 0.3]\n",
      "[0.75, 0.25]\n",
      "[0.8, 0.2]\n"
     ]
    },
    {
     "name": "stderr",
     "output_type": "stream",
     "text": [
      "Data Collection:  73%|███████▎  | 363/500 [00:14<00:05, 25.27it/s]"
     ]
    },
    {
     "name": "stdout",
     "output_type": "stream",
     "text": [
      "[0.85, 0.15]\n",
      "[0.9, 0.1]\n",
      "[0.95, 0.05]\n",
      "[0.05, 0.95]\n",
      "[0.1, 0.9]\n",
      "[0.15, 0.85]\n"
     ]
    },
    {
     "name": "stderr",
     "output_type": "stream",
     "text": [
      "Data Collection:  74%|███████▍  | 369/500 [00:14<00:05, 25.34it/s]"
     ]
    },
    {
     "name": "stdout",
     "output_type": "stream",
     "text": [
      "[0.2, 0.8]\n",
      "[0.25, 0.75]\n",
      "[0.3, 0.7]\n",
      "[0.35, 0.65]\n",
      "[0.4, 0.6]\n",
      "[0.45, 0.55]\n"
     ]
    },
    {
     "name": "stderr",
     "output_type": "stream",
     "text": [
      "Data Collection:  74%|███████▍  | 372/500 [00:15<00:05, 25.03it/s]"
     ]
    },
    {
     "name": "stdout",
     "output_type": "stream",
     "text": [
      "[0.5, 0.5]\n",
      "[0.55, 0.45]\n",
      "[0.6, 0.4]\n",
      "[0.65, 0.35]\n",
      "[0.7, 0.3]\n"
     ]
    },
    {
     "name": "stderr",
     "output_type": "stream",
     "text": [
      "Data Collection:  76%|███████▌  | 378/500 [00:15<00:04, 24.93it/s]"
     ]
    },
    {
     "name": "stdout",
     "output_type": "stream",
     "text": [
      "[0.75, 0.25]\n",
      "[0.8, 0.2]\n",
      "[0.85, 0.15]\n",
      "[0.9, 0.1]\n",
      "[0.95, 0.05]\n",
      "[0.05, 0.95]\n"
     ]
    },
    {
     "name": "stderr",
     "output_type": "stream",
     "text": [
      "Data Collection:  77%|███████▋  | 384/500 [00:15<00:04, 25.17it/s]"
     ]
    },
    {
     "name": "stdout",
     "output_type": "stream",
     "text": [
      "[0.1, 0.9]\n",
      "[0.15, 0.85]\n",
      "[0.2, 0.8]\n",
      "[0.25, 0.75]\n",
      "[0.3, 0.7]\n",
      "[0.35, 0.65]\n"
     ]
    },
    {
     "name": "stderr",
     "output_type": "stream",
     "text": [
      "Data Collection:  78%|███████▊  | 390/500 [00:15<00:04, 24.50it/s]"
     ]
    },
    {
     "name": "stdout",
     "output_type": "stream",
     "text": [
      "[0.4, 0.6]\n",
      "[0.45, 0.55]\n",
      "[0.5, 0.5]\n",
      "[0.55, 0.45]\n",
      "[0.6, 0.4]\n"
     ]
    },
    {
     "name": "stderr",
     "output_type": "stream",
     "text": [
      "Data Collection:  79%|███████▉  | 396/500 [00:16<00:04, 24.89it/s]"
     ]
    },
    {
     "name": "stdout",
     "output_type": "stream",
     "text": [
      "[0.65, 0.35]\n",
      "[0.7, 0.3]\n",
      "[0.75, 0.25]\n",
      "[0.8, 0.2]\n",
      "[0.85, 0.15]\n",
      "[0.9, 0.1]\n"
     ]
    },
    {
     "name": "stderr",
     "output_type": "stream",
     "text": [
      "Data Collection:  80%|████████  | 402/500 [00:16<00:03, 24.78it/s]"
     ]
    },
    {
     "name": "stdout",
     "output_type": "stream",
     "text": [
      "[0.95, 0.05]\n",
      "[0.05, 0.95]\n",
      "[0.1, 0.9]\n",
      "[0.15, 0.85]\n",
      "[0.2, 0.8]\n"
     ]
    },
    {
     "name": "stderr",
     "output_type": "stream",
     "text": [
      "Data Collection:  82%|████████▏ | 408/500 [00:16<00:03, 25.10it/s]"
     ]
    },
    {
     "name": "stdout",
     "output_type": "stream",
     "text": [
      "[0.25, 0.75]\n",
      "[0.3, 0.7]\n",
      "[0.35, 0.65]\n",
      "[0.4, 0.6]\n",
      "[0.45, 0.55]\n",
      "[0.5, 0.5]\n"
     ]
    },
    {
     "name": "stderr",
     "output_type": "stream",
     "text": [
      "Data Collection:  82%|████████▏ | 411/500 [00:16<00:03, 25.04it/s]"
     ]
    },
    {
     "name": "stdout",
     "output_type": "stream",
     "text": [
      "[0.55, 0.45]\n",
      "[0.6, 0.4]\n",
      "[0.65, 0.35]\n",
      "[0.7, 0.3]\n",
      "[0.75, 0.25]\n"
     ]
    },
    {
     "name": "stderr",
     "output_type": "stream",
     "text": [
      "Data Collection:  83%|████████▎ | 417/500 [00:16<00:03, 24.91it/s]"
     ]
    },
    {
     "name": "stdout",
     "output_type": "stream",
     "text": [
      "[0.8, 0.2]\n",
      "[0.85, 0.15]\n",
      "[0.9, 0.1]\n",
      "[0.95, 0.05]\n",
      "[0.05, 0.95]\n",
      "[0.1, 0.9]\n"
     ]
    },
    {
     "name": "stderr",
     "output_type": "stream",
     "text": [
      "Data Collection:  85%|████████▍ | 423/500 [00:17<00:03, 25.00it/s]"
     ]
    },
    {
     "name": "stdout",
     "output_type": "stream",
     "text": [
      "[0.15, 0.85]\n",
      "[0.2, 0.8]\n",
      "[0.25, 0.75]\n",
      "[0.3, 0.7]\n",
      "[0.35, 0.65]\n",
      "[0.4, 0.6]\n"
     ]
    },
    {
     "name": "stderr",
     "output_type": "stream",
     "text": [
      "Data Collection:  86%|████████▌ | 429/500 [00:17<00:02, 24.47it/s]"
     ]
    },
    {
     "name": "stdout",
     "output_type": "stream",
     "text": [
      "[0.45, 0.55]\n",
      "[0.5, 0.5]\n",
      "[0.55, 0.45]\n",
      "[0.6, 0.4]\n",
      "[0.65, 0.35]\n"
     ]
    },
    {
     "name": "stderr",
     "output_type": "stream",
     "text": [
      "Data Collection:  87%|████████▋ | 435/500 [00:17<00:02, 24.13it/s]"
     ]
    },
    {
     "name": "stdout",
     "output_type": "stream",
     "text": [
      "[0.7, 0.3]\n",
      "[0.75, 0.25]\n",
      "[0.8, 0.2]\n",
      "[0.85, 0.15]\n",
      "[0.9, 0.1]\n"
     ]
    },
    {
     "name": "stderr",
     "output_type": "stream",
     "text": [
      "Data Collection:  88%|████████▊ | 438/500 [00:17<00:02, 24.21it/s]"
     ]
    },
    {
     "name": "stdout",
     "output_type": "stream",
     "text": [
      "[0.95, 0.05]\n",
      "[0.05, 0.95]\n",
      "[0.1, 0.9]\n",
      "[0.15, 0.85]\n",
      "[0.2, 0.8]\n"
     ]
    },
    {
     "name": "stderr",
     "output_type": "stream",
     "text": [
      "Data Collection:  89%|████████▉ | 444/500 [00:17<00:02, 23.80it/s]"
     ]
    },
    {
     "name": "stdout",
     "output_type": "stream",
     "text": [
      "[0.25, 0.75]\n",
      "[0.3, 0.7]\n",
      "[0.35, 0.65]\n",
      "[0.4, 0.6]\n",
      "[0.45, 0.55]\n",
      "[0.5, 0.5]\n"
     ]
    },
    {
     "name": "stderr",
     "output_type": "stream",
     "text": [
      "Data Collection:  90%|█████████ | 450/500 [00:18<00:02, 24.22it/s]"
     ]
    },
    {
     "name": "stdout",
     "output_type": "stream",
     "text": [
      "[0.55, 0.45]\n",
      "[0.6, 0.4]\n",
      "[0.65, 0.35]\n",
      "[0.7, 0.3]\n",
      "[0.75, 0.25]\n"
     ]
    },
    {
     "name": "stderr",
     "output_type": "stream",
     "text": [
      "Data Collection:  91%|█████████ | 456/500 [00:18<00:01, 24.14it/s]"
     ]
    },
    {
     "name": "stdout",
     "output_type": "stream",
     "text": [
      "[0.8, 0.2]\n",
      "[0.85, 0.15]\n",
      "[0.9, 0.1]\n",
      "[0.95, 0.05]\n",
      "[0.05, 0.95]\n"
     ]
    },
    {
     "name": "stderr",
     "output_type": "stream",
     "text": [
      "Data Collection:  92%|█████████▏| 459/500 [00:18<00:01, 24.16it/s]"
     ]
    },
    {
     "name": "stdout",
     "output_type": "stream",
     "text": [
      "[0.1, 0.9]\n",
      "[0.15, 0.85]\n",
      "[0.2, 0.8]\n",
      "[0.25, 0.75]\n",
      "[0.3, 0.7]\n"
     ]
    },
    {
     "name": "stderr",
     "output_type": "stream",
     "text": [
      "Data Collection:  93%|█████████▎| 465/500 [00:18<00:01, 24.07it/s]"
     ]
    },
    {
     "name": "stdout",
     "output_type": "stream",
     "text": [
      "[0.35, 0.65]\n",
      "[0.4, 0.6]\n",
      "[0.45, 0.55]\n",
      "[0.5, 0.5]\n",
      "[0.55, 0.45]\n"
     ]
    },
    {
     "name": "stderr",
     "output_type": "stream",
     "text": [
      "Data Collection:  94%|█████████▍| 471/500 [00:19<00:01, 24.15it/s]"
     ]
    },
    {
     "name": "stdout",
     "output_type": "stream",
     "text": [
      "[0.6, 0.4]\n",
      "[0.65, 0.35]\n",
      "[0.7, 0.3]\n",
      "[0.75, 0.25]\n",
      "[0.8, 0.2]\n"
     ]
    },
    {
     "name": "stderr",
     "output_type": "stream",
     "text": [
      "Data Collection:  95%|█████████▍| 474/500 [00:19<00:01, 24.26it/s]"
     ]
    },
    {
     "name": "stdout",
     "output_type": "stream",
     "text": [
      "[0.85, 0.15]\n",
      "[0.9, 0.1]\n",
      "[0.95, 0.05]\n",
      "[0.05, 0.95]\n",
      "[0.1, 0.9]\n"
     ]
    },
    {
     "name": "stderr",
     "output_type": "stream",
     "text": [
      "Data Collection:  96%|█████████▌| 480/500 [00:19<00:00, 24.50it/s]"
     ]
    },
    {
     "name": "stdout",
     "output_type": "stream",
     "text": [
      "[0.15, 0.85]\n",
      "[0.2, 0.8]\n",
      "[0.25, 0.75]\n",
      "[0.3, 0.7]\n",
      "[0.35, 0.65]\n",
      "[0.4, 0.6]\n"
     ]
    },
    {
     "name": "stderr",
     "output_type": "stream",
     "text": [
      "Data Collection:  97%|█████████▋| 486/500 [00:19<00:00, 24.58it/s]"
     ]
    },
    {
     "name": "stdout",
     "output_type": "stream",
     "text": [
      "[0.45, 0.55]\n",
      "[0.5, 0.5]\n",
      "[0.55, 0.45]\n",
      "[0.6, 0.4]\n",
      "[0.65, 0.35]\n"
     ]
    },
    {
     "name": "stderr",
     "output_type": "stream",
     "text": [
      "Data Collection:  98%|█████████▊| 492/500 [00:19<00:00, 23.69it/s]"
     ]
    },
    {
     "name": "stdout",
     "output_type": "stream",
     "text": [
      "[0.7, 0.3]\n",
      "[0.75, 0.25]\n",
      "[0.8, 0.2]\n",
      "[0.85, 0.15]\n",
      "[0.9, 0.1]\n"
     ]
    },
    {
     "name": "stderr",
     "output_type": "stream",
     "text": [
      "Data Collection:  99%|█████████▉| 495/500 [00:20<00:00, 23.50it/s]"
     ]
    },
    {
     "name": "stdout",
     "output_type": "stream",
     "text": [
      "[0.95, 0.05]\n",
      "[0.05, 0.95]\n",
      "[0.1, 0.9]\n",
      "[0.15, 0.85]\n",
      "[0.2, 0.8]\n"
     ]
    },
    {
     "name": "stderr",
     "output_type": "stream",
     "text": [
      "Data Collection: 100%|██████████| 500/500 [00:20<00:00, 24.63it/s]"
     ]
    },
    {
     "name": "stdout",
     "output_type": "stream",
     "text": [
      "[0.25, 0.75]\n",
      "[0.3, 0.7]\n",
      "\n",
      "PCA 분석 완료. 설명된 분산: [9.9986601e-01 4.0269802e-05]\n"
     ]
    },
    {
     "name": "stderr",
     "output_type": "stream",
     "text": [
      "\n"
     ]
    }
   ],
   "source": [
    "NUM_TEST_EPISODES = 500 # 분석의 신뢰도를 높이기 위해 여러 에피소드 실행\n",
    "all_episode_data = []\n",
    "\n",
    "# 분석할 특정 p0 값들을 번갈아 가며 환경 생성\n",
    "# p0_pairs_to_test = [[0.05, 0.95], [0.1, 0.9], [0.15, 0.85], [0.2, 0.8],\n",
    "#                     [0.25, 0.75], [0.3, 0.7], [0.35, 0.65], [0.4, 0.6],\n",
    "#                     [0.45, 0.55], [0.5, 0.5], [0.55, 0.45], [0.6, 0.4],\n",
    "#                     [0.65, 0.35], [0.7, 0.3], [0.75, 0.25], [0.8, 0.2],\n",
    "#                     [0.85, 0.15], [0.9, 0.1], [0.95, 0.05]]\n",
    "p0_pairs_to_test =[[0.4 0.6],[0.6,0.4]]\n",
    "print(f\"\\n{NUM_TEST_EPISODES}개의 테스트 에피소드에서 데이터 수집을 시작합니다...\")\n",
    "env = DynamicBandit(training=False)\n",
    "\n",
    "for i in tqdm(range(NUM_TEST_EPISODES), desc=\"Data Collection\"):\n",
    "    p0_pair = p0_pairs_to_test[i % len(p0_pairs_to_test)] # p0 쌍을 번갈아 선택\n",
    "    env.reset(p0_pair=p0_pair)\n",
    "    print(p0_pair)\n",
    "    data = collect_episode_data(a2c_agent, env,  episode_length=config.EPISODE_LENGTH)\n",
    "    all_episode_data.append(data)\n",
    "\n",
    "# 3. PCA 모델 훈련\n",
    "# 모든 hidden state를 합쳐서 PCA 모델을 학습시킴\n",
    "all_hidden_states = np.vstack([d['hidden_states'] for d in all_episode_data])\n",
    "pca = PCA(n_components=config.PCA_COMPONENTS)\n",
    "pca.fit(all_hidden_states)\n",
    "print(f\"\\nPCA 분석 완료. 설명된 분산: {pca.explained_variance_ratio_}\")\n"
   ]
  },
  {
   "cell_type": "code",
   "execution_count": 96,
   "id": "18f681cc",
   "metadata": {},
   "outputs": [
    {
     "name": "stdout",
     "output_type": "stream",
     "text": [
      "디버깅 정보:\n",
      "Task 1 (p0=[0.05, 0.95])에 대해 수집된 에피소드 수: 0\n",
      "Task 2 (p0=[0.1, 0.9])에 대해 수집된 에피소드 수: 0\n",
      "실제로 수집된 p0 값들 (처음 10개): ['[0.05, 0.45]', '[0.1, 0.4]', '[0.15, 0.35]', '[0.2, 0.3]', '[0.25, 0.25]', '[0.3, 0.2]', '[0.35, 0.15000000000000002]', '[0.4, 0.09999999999999998]', '[0.45, 0.04999999999999999]', '[0.5, 0.0]']\n"
     ]
    },
    {
     "ename": "ValueError",
     "evalue": "PCA 분석에 필요한 한 개 또는 두 개 과제에 대한 데이터가 수집되지 않았습니다. 데이터 수집 과정이나 p0 값 비교 로직을 확인해주세요.",
     "output_type": "error",
     "traceback": [
      "\u001b[31m---------------------------------------------------------------------------\u001b[39m",
      "\u001b[31mValueError\u001b[39m                                Traceback (most recent call last)",
      "\u001b[36mCell\u001b[39m\u001b[36m \u001b[39m\u001b[32mIn[96]\u001b[39m\u001b[32m, line 1\u001b[39m\n\u001b[32m----> \u001b[39m\u001b[32m1\u001b[39m pca = fit_pca_on_task_difference(all_episode_data, p0_pairs_to_test)\n",
      "\u001b[36mFile \u001b[39m\u001b[32m~/Documents/Research/Study/CCN_Course/meta_env_agent.py:351\u001b[39m, in \u001b[36mfit_pca_on_task_difference\u001b[39m\u001b[34m(all_data, p0_pairs)\u001b[39m\n\u001b[32m      0\u001b[39m <Error retrieving source code with stack_data see ipython/ipython#13598>\n",
      "\u001b[31mValueError\u001b[39m: PCA 분석에 필요한 한 개 또는 두 개 과제에 대한 데이터가 수집되지 않았습니다. 데이터 수집 과정이나 p0 값 비교 로직을 확인해주세요."
     ]
    }
   ],
   "source": [
    "pca = fit_pca_on_task_difference(all_episode_data, p0_pairs_to_test)\n",
    "\n"
   ]
  },
  {
   "cell_type": "code",
   "execution_count": null,
   "id": "0dff6cb3",
   "metadata": {},
   "outputs": [],
   "source": []
  }
 ],
 "metadata": {
  "kernelspec": {
   "display_name": "motornet",
   "language": "python",
   "name": "motornet"
  },
  "language_info": {
   "codemirror_mode": {
    "name": "ipython",
    "version": 3
   },
   "file_extension": ".py",
   "mimetype": "text/x-python",
   "name": "python",
   "nbconvert_exporter": "python",
   "pygments_lexer": "ipython3",
   "version": "3.13.4"
  }
 },
 "nbformat": 4,
 "nbformat_minor": 5
}
